{
 "cells": [
  {
   "cell_type": "code",
   "execution_count": 47,
   "metadata": {
    "colab": {
     "base_uri": "https://localhost:8080/",
     "height": 104
    },
    "id": "VqjQSTfSc24f",
    "outputId": "4543cc99-7775-4df0-c41b-ee639af1366a"
   },
   "outputs": [
    {
     "data": {
      "text/html": [
       "        <script type=\"text/javascript\">\n",
       "        window.PlotlyConfig = {MathJaxConfig: 'local'};\n",
       "        if (window.MathJax) {MathJax.Hub.Config({SVG: {font: \"STIX-Web\"}});}\n",
       "        if (typeof require !== 'undefined') {\n",
       "        require.undef(\"plotly\");\n",
       "        requirejs.config({\n",
       "            paths: {\n",
       "                'plotly': ['https://cdn.plot.ly/plotly-latest.min']\n",
       "            }\n",
       "        });\n",
       "        require(['plotly'], function(Plotly) {\n",
       "            window._Plotly = Plotly;\n",
       "        });\n",
       "        }\n",
       "        </script>\n",
       "        "
      ]
     },
     "metadata": {
      "tags": []
     },
     "output_type": "display_data"
    },
    {
     "name": "stderr",
     "output_type": "stream",
     "text": [
      "/usr/local/lib/python3.6/dist-packages/ipykernel_launcher.py:58: FutureWarning:\n",
      "\n",
      "Passing a negative integer is deprecated in version 1.0 and will not be supported in future version. Instead, use None to not limit the column width.\n",
      "\n"
     ]
    }
   ],
   "source": [
    "from textblob import TextBlob\n",
    "import nltk\n",
    "import re\n",
    "import pandas as pd\n",
    "import numpy as np\n",
    "from sklearn.model_selection import train_test_split\n",
    "from sklearn.feature_extraction.text import TfidfVectorizer\n",
    "from sklearn.naive_bayes import MultinomialNB\n",
    "from sklearn import metrics\n",
    "import pylab as pl\n",
    "import matplotlib.pyplot as plt\n",
    "\n",
    "import pandas as pd\n",
    "import numpy as np\n",
    "import csv\n",
    "import nltk\n",
    "import string\n",
    "import matplotlib.pyplot as plt\n",
    "%matplotlib inline\n",
    "import seaborn as sns\n",
    "import random\n",
    "\n",
    "from sklearn.pipeline import Pipeline\n",
    "from sklearn.model_selection import train_test_split\n",
    "from sklearn.metrics import classification_report, confusion_matrix, accuracy_score\n",
    "from sklearn.naive_bayes import MultinomialNB\n",
    "from sklearn.model_selection import KFold, cross_val_score\n",
    "from sklearn.ensemble import RandomForestClassifier\n",
    "from sklearn.feature_extraction.text import CountVectorizer\n",
    "from sklearn.feature_extraction.text import TfidfTransformer\n",
    "from sklearn.model_selection import GridSearchCV\n",
    "from sklearn.externals import joblib\n",
    "from nltk.corpus import stopwords\n",
    "from nltk.tokenize import TweetTokenizer\n",
    "from nltk.stem.wordnet import WordNetLemmatizer\n",
    "\n",
    "import pickle\n",
    "import re\n",
    "from collections import Counter\n",
    "from string import punctuation\n",
    "import tweepy\n",
    "from tweepy import OAuthHandler\n",
    "import json\n",
    "from wordcloud import WordCloud\n",
    "\n",
    "import plotly\n",
    "#import plotly.plotly as py\n",
    "import plotly.graph_objs as go \n",
    "from plotly.offline import download_plotlyjs, init_notebook_mode, plot, iplot\n",
    "import cufflinks as cf\n",
    "cf.go_offline()\n",
    "\n",
    "from IPython.display import IFrame\n",
    "import folium\n",
    "from folium import plugins\n",
    "from folium.plugins import MarkerCluster, FastMarkerCluster, HeatMapWithTime\n",
    "\n",
    "pd.set_option('display.max_colwidth', -1)\n",
    "plt.style.use('seaborn-white')\n",
    "\n",
    "\n"
   ]
  },
  {
   "cell_type": "code",
   "execution_count": 32,
   "metadata": {
    "colab": {
     "base_uri": "https://localhost:8080/",
     "height": 195
    },
    "id": "AU0iTUPkZIp2",
    "outputId": "62110feb-e1e3-4bda-d905-36d4e92edb04"
   },
   "outputs": [
    {
     "data": {
      "text/html": [
       "<div>\n",
       "<style scoped>\n",
       "    .dataframe tbody tr th:only-of-type {\n",
       "        vertical-align: middle;\n",
       "    }\n",
       "\n",
       "    .dataframe tbody tr th {\n",
       "        vertical-align: top;\n",
       "    }\n",
       "\n",
       "    .dataframe thead th {\n",
       "        text-align: right;\n",
       "    }\n",
       "</style>\n",
       "<table border=\"1\" class=\"dataframe\">\n",
       "  <thead>\n",
       "    <tr style=\"text-align: right;\">\n",
       "      <th></th>\n",
       "      <th>author</th>\n",
       "      <th>date</th>\n",
       "      <th>text</th>\n",
       "    </tr>\n",
       "  </thead>\n",
       "  <tbody>\n",
       "    <tr>\n",
       "      <th>0</th>\n",
       "      <td>R0nnieBergman</td>\n",
       "      <td>2020-10-31 09:24:34</td>\n",
       "      <td>RT @standardnews: I created The Thick of It an...</td>\n",
       "    </tr>\n",
       "    <tr>\n",
       "      <th>1</th>\n",
       "      <td>Godhelpusameric</td>\n",
       "      <td>2020-10-31 09:24:34</td>\n",
       "      <td>RT @realDonaldTrump: “A Biden win would mean t...</td>\n",
       "    </tr>\n",
       "    <tr>\n",
       "      <th>2</th>\n",
       "      <td>Zehub</td>\n",
       "      <td>2020-10-31 09:24:34</td>\n",
       "      <td>VIDEO. Election présidentielle aux États-Unis ...</td>\n",
       "    </tr>\n",
       "    <tr>\n",
       "      <th>3</th>\n",
       "      <td>JamieParrigin</td>\n",
       "      <td>2020-10-31 09:24:34</td>\n",
       "      <td>RT @realDonaldTrump: President Obama used to s...</td>\n",
       "    </tr>\n",
       "    <tr>\n",
       "      <th>4</th>\n",
       "      <td>Powerfader54</td>\n",
       "      <td>2020-10-31 09:24:34</td>\n",
       "      <td>Tucker Carlson: Hunter Biden scandal shows med...</td>\n",
       "    </tr>\n",
       "  </tbody>\n",
       "</table>\n",
       "</div>"
      ],
      "text/plain": [
       "            author  ...                                               text\n",
       "0    R0nnieBergman  ...  RT @standardnews: I created The Thick of It an...\n",
       "1  Godhelpusameric  ...  RT @realDonaldTrump: “A Biden win would mean t...\n",
       "2            Zehub  ...  VIDEO. Election présidentielle aux États-Unis ...\n",
       "3    JamieParrigin  ...  RT @realDonaldTrump: President Obama used to s...\n",
       "4     Powerfader54  ...  Tucker Carlson: Hunter Biden scandal shows med...\n",
       "\n",
       "[5 rows x 3 columns]"
      ]
     },
     "execution_count": 32,
     "metadata": {
      "tags": []
     },
     "output_type": "execute_result"
    }
   ],
   "source": [
    "dataset= pd.read_csv(\"TrumpvsBiden.csv\")\n",
    "dataset.head()"
   ]
  },
  {
   "cell_type": "code",
   "execution_count": 34,
   "metadata": {
    "colab": {
     "base_uri": "https://localhost:8080/",
     "height": 195
    },
    "id": "dpZFIXv_fmWE",
    "outputId": "f0b53dec-2485-4a9a-927a-1278523eb38c"
   },
   "outputs": [
    {
     "data": {
      "text/html": [
       "<div>\n",
       "<style scoped>\n",
       "    .dataframe tbody tr th:only-of-type {\n",
       "        vertical-align: middle;\n",
       "    }\n",
       "\n",
       "    .dataframe tbody tr th {\n",
       "        vertical-align: top;\n",
       "    }\n",
       "\n",
       "    .dataframe thead th {\n",
       "        text-align: right;\n",
       "    }\n",
       "</style>\n",
       "<table border=\"1\" class=\"dataframe\">\n",
       "  <thead>\n",
       "    <tr style=\"text-align: right;\">\n",
       "      <th></th>\n",
       "      <th>author</th>\n",
       "      <th>date</th>\n",
       "      <th>text</th>\n",
       "      <th>Sentiment_Polarity</th>\n",
       "    </tr>\n",
       "  </thead>\n",
       "  <tbody>\n",
       "    <tr>\n",
       "      <th>4249</th>\n",
       "      <td>cccelsr</td>\n",
       "      <td>2020-10-31 09:27:03</td>\n",
       "      <td>RT @themarketswork: Whom among us hasn't rando...</td>\n",
       "      <td>-0.166667</td>\n",
       "    </tr>\n",
       "    <tr>\n",
       "      <th>4250</th>\n",
       "      <td>UnEspanolVOX</td>\n",
       "      <td>2020-10-31 09:27:03</td>\n",
       "      <td>RT @alonso_dm: La ultraderecha cada día más ec...</td>\n",
       "      <td>0.000000</td>\n",
       "    </tr>\n",
       "    <tr>\n",
       "      <th>4251</th>\n",
       "      <td>hub53848550</td>\n",
       "      <td>2020-10-31 09:27:03</td>\n",
       "      <td>RT @EricTrump: TeamTrump is just getting warme...</td>\n",
       "      <td>0.000000</td>\n",
       "    </tr>\n",
       "    <tr>\n",
       "      <th>4252</th>\n",
       "      <td>coop22089074</td>\n",
       "      <td>2020-10-31 09:27:03</td>\n",
       "      <td>Biden Vows to Hold China Accountable amid Scru...</td>\n",
       "      <td>0.000000</td>\n",
       "    </tr>\n",
       "    <tr>\n",
       "      <th>4253</th>\n",
       "      <td>zeusFanHouse</td>\n",
       "      <td>2020-10-31 09:27:03</td>\n",
       "      <td>RT @MagaGlam: @realDonaldTrump We ❤️ You Presi...</td>\n",
       "      <td>0.000000</td>\n",
       "    </tr>\n",
       "  </tbody>\n",
       "</table>\n",
       "</div>"
      ],
      "text/plain": [
       "            author  ... Sentiment_Polarity\n",
       "4249       cccelsr  ...          -0.166667\n",
       "4250  UnEspanolVOX  ...           0.000000\n",
       "4251   hub53848550  ...           0.000000\n",
       "4252  coop22089074  ...           0.000000\n",
       "4253  zeusFanHouse  ...           0.000000\n",
       "\n",
       "[5 rows x 4 columns]"
      ]
     },
     "execution_count": 34,
     "metadata": {
      "tags": []
     },
     "output_type": "execute_result"
    }
   ],
   "source": [
    "def find_pol(review):\n",
    "    return TextBlob(review).sentiment.polarity\n",
    "\n",
    "#Sentiment Polarity on Trump’s dataset\n",
    "\n",
    "dataset['Sentiment_Polarity'] = dataset['text'].apply(find_pol)\n",
    "dataset.tail()"
   ]
  },
  {
   "cell_type": "code",
   "execution_count": 34,
   "metadata": {
    "id": "gD3KJCdVZHN9"
   },
   "outputs": [],
   "source": []
  },
  {
   "cell_type": "code",
   "execution_count": 35,
   "metadata": {
    "colab": {
     "base_uri": "https://localhost:8080/",
     "height": 279
    },
    "id": "C24mVJPnigtO",
    "outputId": "6ab3bd67-b6a0-4bd4-abb5-c256535c08ec"
   },
   "outputs": [
    {
     "name": "stderr",
     "output_type": "stream",
     "text": [
      "/usr/local/lib/python3.6/dist-packages/ipykernel_launcher.py:3: SettingWithCopyWarning: \n",
      "A value is trying to be set on a copy of a slice from a DataFrame\n",
      "\n",
      "See the caveats in the documentation: https://pandas.pydata.org/pandas-docs/stable/user_guide/indexing.html#returning-a-view-versus-a-copy\n",
      "  This is separate from the ipykernel package so we can avoid doing imports until\n"
     ]
    },
    {
     "data": {
      "text/html": [
       "<div>\n",
       "<style scoped>\n",
       "    .dataframe tbody tr th:only-of-type {\n",
       "        vertical-align: middle;\n",
       "    }\n",
       "\n",
       "    .dataframe tbody tr th {\n",
       "        vertical-align: top;\n",
       "    }\n",
       "\n",
       "    .dataframe thead th {\n",
       "        text-align: right;\n",
       "    }\n",
       "</style>\n",
       "<table border=\"1\" class=\"dataframe\">\n",
       "  <thead>\n",
       "    <tr style=\"text-align: right;\">\n",
       "      <th></th>\n",
       "      <th>author</th>\n",
       "      <th>date</th>\n",
       "      <th>text</th>\n",
       "      <th>Sentiment_Polarity</th>\n",
       "      <th>Expression Label</th>\n",
       "    </tr>\n",
       "  </thead>\n",
       "  <tbody>\n",
       "    <tr>\n",
       "      <th>4249</th>\n",
       "      <td>cccelsr</td>\n",
       "      <td>2020-10-31 09:27:03</td>\n",
       "      <td>RT @themarketswork: Whom among us hasn't rando...</td>\n",
       "      <td>-0.166667</td>\n",
       "      <td>negative</td>\n",
       "    </tr>\n",
       "    <tr>\n",
       "      <th>4250</th>\n",
       "      <td>UnEspanolVOX</td>\n",
       "      <td>2020-10-31 09:27:03</td>\n",
       "      <td>RT @alonso_dm: La ultraderecha cada día más ec...</td>\n",
       "      <td>0.000000</td>\n",
       "      <td>Neutral</td>\n",
       "    </tr>\n",
       "    <tr>\n",
       "      <th>4251</th>\n",
       "      <td>hub53848550</td>\n",
       "      <td>2020-10-31 09:27:03</td>\n",
       "      <td>RT @EricTrump: TeamTrump is just getting warme...</td>\n",
       "      <td>0.000000</td>\n",
       "      <td>Neutral</td>\n",
       "    </tr>\n",
       "    <tr>\n",
       "      <th>4252</th>\n",
       "      <td>coop22089074</td>\n",
       "      <td>2020-10-31 09:27:03</td>\n",
       "      <td>Biden Vows to Hold China Accountable amid Scru...</td>\n",
       "      <td>0.000000</td>\n",
       "      <td>Neutral</td>\n",
       "    </tr>\n",
       "    <tr>\n",
       "      <th>4253</th>\n",
       "      <td>zeusFanHouse</td>\n",
       "      <td>2020-10-31 09:27:03</td>\n",
       "      <td>RT @MagaGlam: @realDonaldTrump We ❤️ You Presi...</td>\n",
       "      <td>0.000000</td>\n",
       "      <td>Neutral</td>\n",
       "    </tr>\n",
       "  </tbody>\n",
       "</table>\n",
       "</div>"
      ],
      "text/plain": [
       "            author                 date  ... Sentiment_Polarity  Expression Label\n",
       "4249       cccelsr  2020-10-31 09:27:03  ...          -0.166667          negative\n",
       "4250  UnEspanolVOX  2020-10-31 09:27:03  ...           0.000000           Neutral\n",
       "4251   hub53848550  2020-10-31 09:27:03  ...           0.000000           Neutral\n",
       "4252  coop22089074  2020-10-31 09:27:03  ...           0.000000           Neutral\n",
       "4253  zeusFanHouse  2020-10-31 09:27:03  ...           0.000000           Neutral\n",
       "\n",
       "[5 rows x 5 columns]"
      ]
     },
     "execution_count": 35,
     "metadata": {
      "tags": []
     },
     "output_type": "execute_result"
    }
   ],
   "source": [
    "#Add one more attribute for Expression Label\n",
    "dataset['Expression Label'] = np.where(dataset['Sentiment_Polarity']>0,'positive', 'negative')\n",
    "dataset['Expression Label'][dataset.Sentiment_Polarity ==0] = \"Neutral\"\n",
    "dataset.tail()"
   ]
  },
  {
   "cell_type": "code",
   "execution_count": 36,
   "metadata": {
    "colab": {
     "base_uri": "https://localhost:8080/"
    },
    "id": "wM3YgJAsig3s",
    "outputId": "5d704ba7-a831-442a-8560-79de37f805f5"
   },
   "outputs": [
    {
     "data": {
      "text/plain": [
       "(1991, 5)"
      ]
     },
     "execution_count": 36,
     "metadata": {
      "tags": []
     },
     "output_type": "execute_result"
    }
   ],
   "source": [
    "\n",
    "reviews1 = dataset[dataset['Sentiment_Polarity'] == 0.0000]\n",
    "reviews1.shape"
   ]
  },
  {
   "cell_type": "code",
   "execution_count": 37,
   "metadata": {
    "colab": {
     "base_uri": "https://localhost:8080/"
    },
    "id": "MkMPwwWW5epl",
    "outputId": "a98acabe-6738-4b4b-b504-9278fce50d94"
   },
   "outputs": [
    {
     "data": {
      "text/plain": [
       "(2263, 5)"
      ]
     },
     "execution_count": 37,
     "metadata": {
      "tags": []
     },
     "output_type": "execute_result"
    }
   ],
   "source": [
    "cond1=dataset['Sentiment_Polarity'].isin(reviews1['Sentiment_Polarity'])\n",
    "dataset.drop(dataset[cond1].index, inplace = True)\n",
    "dataset.shape"
   ]
  },
  {
   "cell_type": "code",
   "execution_count": 38,
   "metadata": {
    "colab": {
     "base_uri": "https://localhost:8080/",
     "height": 195
    },
    "id": "nmfb4GGm6a_u",
    "outputId": "7ca57199-9abe-4f73-a07e-795fc480df4f"
   },
   "outputs": [
    {
     "data": {
      "text/html": [
       "<div>\n",
       "<style scoped>\n",
       "    .dataframe tbody tr th:only-of-type {\n",
       "        vertical-align: middle;\n",
       "    }\n",
       "\n",
       "    .dataframe tbody tr th {\n",
       "        vertical-align: top;\n",
       "    }\n",
       "\n",
       "    .dataframe thead th {\n",
       "        text-align: right;\n",
       "    }\n",
       "</style>\n",
       "<table border=\"1\" class=\"dataframe\">\n",
       "  <thead>\n",
       "    <tr style=\"text-align: right;\">\n",
       "      <th></th>\n",
       "      <th>author</th>\n",
       "      <th>date</th>\n",
       "      <th>text</th>\n",
       "      <th>Sentiment_Polarity</th>\n",
       "      <th>Expression Label</th>\n",
       "    </tr>\n",
       "  </thead>\n",
       "  <tbody>\n",
       "    <tr>\n",
       "      <th>0</th>\n",
       "      <td>R0nnieBergman</td>\n",
       "      <td>2020-10-31 09:24:34</td>\n",
       "      <td>RT @standardnews: I created The Thick of It an...</td>\n",
       "      <td>-0.30000</td>\n",
       "      <td>negative</td>\n",
       "    </tr>\n",
       "    <tr>\n",
       "      <th>1</th>\n",
       "      <td>Godhelpusameric</td>\n",
       "      <td>2020-10-31 09:24:34</td>\n",
       "      <td>RT @realDonaldTrump: “A Biden win would mean t...</td>\n",
       "      <td>0.24375</td>\n",
       "      <td>positive</td>\n",
       "    </tr>\n",
       "    <tr>\n",
       "      <th>3</th>\n",
       "      <td>JamieParrigin</td>\n",
       "      <td>2020-10-31 09:24:34</td>\n",
       "      <td>RT @realDonaldTrump: President Obama used to s...</td>\n",
       "      <td>0.20000</td>\n",
       "      <td>positive</td>\n",
       "    </tr>\n",
       "    <tr>\n",
       "      <th>4</th>\n",
       "      <td>Powerfader54</td>\n",
       "      <td>2020-10-31 09:24:34</td>\n",
       "      <td>Tucker Carlson: Hunter Biden scandal shows med...</td>\n",
       "      <td>0.25000</td>\n",
       "      <td>positive</td>\n",
       "    </tr>\n",
       "    <tr>\n",
       "      <th>5</th>\n",
       "      <td>America_Mine</td>\n",
       "      <td>2020-10-31 09:24:34</td>\n",
       "      <td>RT @mabomm1: The Russian hoax President Trump’...</td>\n",
       "      <td>-0.25000</td>\n",
       "      <td>negative</td>\n",
       "    </tr>\n",
       "  </tbody>\n",
       "</table>\n",
       "</div>"
      ],
      "text/plain": [
       "            author                 date  ... Sentiment_Polarity  Expression Label\n",
       "0    R0nnieBergman  2020-10-31 09:24:34  ...           -0.30000          negative\n",
       "1  Godhelpusameric  2020-10-31 09:24:34  ...            0.24375          positive\n",
       "3    JamieParrigin  2020-10-31 09:24:34  ...            0.20000          positive\n",
       "4     Powerfader54  2020-10-31 09:24:34  ...            0.25000          positive\n",
       "5     America_Mine  2020-10-31 09:24:34  ...           -0.25000          negative\n",
       "\n",
       "[5 rows x 5 columns]"
      ]
     },
     "execution_count": 38,
     "metadata": {
      "tags": []
     },
     "output_type": "execute_result"
    }
   ],
   "source": [
    "dataset.head()"
   ]
  },
  {
   "cell_type": "code",
   "execution_count": 42,
   "metadata": {
    "colab": {
     "base_uri": "https://localhost:8080/",
     "height": 296
    },
    "id": "7AbrnJkdaRNN",
    "outputId": "c9f59b10-be85-4e8e-ac47-ed6a20004657"
   },
   "outputs": [
    {
     "data": {
      "text/html": [
       "<div>\n",
       "<style scoped>\n",
       "    .dataframe tbody tr th:only-of-type {\n",
       "        vertical-align: middle;\n",
       "    }\n",
       "\n",
       "    .dataframe tbody tr th {\n",
       "        vertical-align: top;\n",
       "    }\n",
       "\n",
       "    .dataframe thead th {\n",
       "        text-align: right;\n",
       "    }\n",
       "</style>\n",
       "<table border=\"1\" class=\"dataframe\">\n",
       "  <thead>\n",
       "    <tr style=\"text-align: right;\">\n",
       "      <th></th>\n",
       "      <th>author</th>\n",
       "      <th>date</th>\n",
       "      <th>text</th>\n",
       "      <th>Sentiment_Polarity</th>\n",
       "      <th>Expression Label</th>\n",
       "      <th>word count</th>\n",
       "      <th>Expression label</th>\n",
       "    </tr>\n",
       "  </thead>\n",
       "  <tbody>\n",
       "    <tr>\n",
       "      <th>0</th>\n",
       "      <td>R0nnieBergman</td>\n",
       "      <td>2020-10-31 09:24:34</td>\n",
       "      <td>RT @standardnews: I created The Thick of It an...</td>\n",
       "      <td>-0.30000</td>\n",
       "      <td>negative</td>\n",
       "      <td>23</td>\n",
       "      <td>0</td>\n",
       "    </tr>\n",
       "    <tr>\n",
       "      <th>1</th>\n",
       "      <td>Godhelpusameric</td>\n",
       "      <td>2020-10-31 09:24:34</td>\n",
       "      <td>RT @realDonaldTrump: “A Biden win would mean t...</td>\n",
       "      <td>0.24375</td>\n",
       "      <td>positive</td>\n",
       "      <td>23</td>\n",
       "      <td>1</td>\n",
       "    </tr>\n",
       "    <tr>\n",
       "      <th>3</th>\n",
       "      <td>JamieParrigin</td>\n",
       "      <td>2020-10-31 09:24:34</td>\n",
       "      <td>RT @realDonaldTrump: President Obama used to s...</td>\n",
       "      <td>0.20000</td>\n",
       "      <td>positive</td>\n",
       "      <td>26</td>\n",
       "      <td>1</td>\n",
       "    </tr>\n",
       "    <tr>\n",
       "      <th>4</th>\n",
       "      <td>Powerfader54</td>\n",
       "      <td>2020-10-31 09:24:34</td>\n",
       "      <td>Tucker Carlson: Hunter Biden scandal shows med...</td>\n",
       "      <td>0.25000</td>\n",
       "      <td>positive</td>\n",
       "      <td>17</td>\n",
       "      <td>1</td>\n",
       "    </tr>\n",
       "    <tr>\n",
       "      <th>5</th>\n",
       "      <td>America_Mine</td>\n",
       "      <td>2020-10-31 09:24:34</td>\n",
       "      <td>RT @mabomm1: The Russian hoax President Trump’...</td>\n",
       "      <td>-0.25000</td>\n",
       "      <td>negative</td>\n",
       "      <td>23</td>\n",
       "      <td>0</td>\n",
       "    </tr>\n",
       "  </tbody>\n",
       "</table>\n",
       "</div>"
      ],
      "text/plain": [
       "            author                 date  ... word count  Expression label\n",
       "0    R0nnieBergman  2020-10-31 09:24:34  ...         23                 0\n",
       "1  Godhelpusameric  2020-10-31 09:24:34  ...         23                 1\n",
       "3    JamieParrigin  2020-10-31 09:24:34  ...         26                 1\n",
       "4     Powerfader54  2020-10-31 09:24:34  ...         17                 1\n",
       "5     America_Mine  2020-10-31 09:24:34  ...         23                 0\n",
       "\n",
       "[5 rows x 7 columns]"
      ]
     },
     "execution_count": 42,
     "metadata": {
      "tags": []
     },
     "output_type": "execute_result"
    }
   ],
   "source": [
    "from sklearn.preprocessing import LabelEncoder\n",
    "labelencoder = LabelEncoder()\n",
    "dataset['Expression label'] = labelencoder.fit_transform(dataset['Expression Label'])\n",
    "dataset.head()"
   ]
  },
  {
   "cell_type": "code",
   "execution_count": 43,
   "metadata": {
    "colab": {
     "base_uri": "https://localhost:8080/",
     "height": 296
    },
    "id": "L0UKt5xSXyaU",
    "outputId": "58c6f5ae-ee0e-4038-b348-43ce65347f74"
   },
   "outputs": [
    {
     "data": {
      "text/html": [
       "<div>\n",
       "<style scoped>\n",
       "    .dataframe tbody tr th:only-of-type {\n",
       "        vertical-align: middle;\n",
       "    }\n",
       "\n",
       "    .dataframe tbody tr th {\n",
       "        vertical-align: top;\n",
       "    }\n",
       "\n",
       "    .dataframe thead th {\n",
       "        text-align: right;\n",
       "    }\n",
       "</style>\n",
       "<table border=\"1\" class=\"dataframe\">\n",
       "  <thead>\n",
       "    <tr style=\"text-align: right;\">\n",
       "      <th></th>\n",
       "      <th>author</th>\n",
       "      <th>date</th>\n",
       "      <th>text</th>\n",
       "      <th>Sentiment_Polarity</th>\n",
       "      <th>Expression Label</th>\n",
       "      <th>word count</th>\n",
       "      <th>Expression label</th>\n",
       "    </tr>\n",
       "  </thead>\n",
       "  <tbody>\n",
       "    <tr>\n",
       "      <th>0</th>\n",
       "      <td>R0nnieBergman</td>\n",
       "      <td>2020-10-31 09:24:34</td>\n",
       "      <td>RT @standardnews: I created The Thick of It an...</td>\n",
       "      <td>-0.30000</td>\n",
       "      <td>negative</td>\n",
       "      <td>23</td>\n",
       "      <td>0</td>\n",
       "    </tr>\n",
       "    <tr>\n",
       "      <th>1</th>\n",
       "      <td>Godhelpusameric</td>\n",
       "      <td>2020-10-31 09:24:34</td>\n",
       "      <td>RT @realDonaldTrump: “A Biden win would mean t...</td>\n",
       "      <td>0.24375</td>\n",
       "      <td>positive</td>\n",
       "      <td>23</td>\n",
       "      <td>1</td>\n",
       "    </tr>\n",
       "    <tr>\n",
       "      <th>3</th>\n",
       "      <td>JamieParrigin</td>\n",
       "      <td>2020-10-31 09:24:34</td>\n",
       "      <td>RT @realDonaldTrump: President Obama used to s...</td>\n",
       "      <td>0.20000</td>\n",
       "      <td>positive</td>\n",
       "      <td>26</td>\n",
       "      <td>1</td>\n",
       "    </tr>\n",
       "    <tr>\n",
       "      <th>4</th>\n",
       "      <td>Powerfader54</td>\n",
       "      <td>2020-10-31 09:24:34</td>\n",
       "      <td>Tucker Carlson: Hunter Biden scandal shows med...</td>\n",
       "      <td>0.25000</td>\n",
       "      <td>positive</td>\n",
       "      <td>17</td>\n",
       "      <td>1</td>\n",
       "    </tr>\n",
       "    <tr>\n",
       "      <th>5</th>\n",
       "      <td>America_Mine</td>\n",
       "      <td>2020-10-31 09:24:34</td>\n",
       "      <td>RT @mabomm1: The Russian hoax President Trump’...</td>\n",
       "      <td>-0.25000</td>\n",
       "      <td>negative</td>\n",
       "      <td>23</td>\n",
       "      <td>0</td>\n",
       "    </tr>\n",
       "  </tbody>\n",
       "</table>\n",
       "</div>"
      ],
      "text/plain": [
       "            author                 date  ... word count  Expression label\n",
       "0    R0nnieBergman  2020-10-31 09:24:34  ...         23                 0\n",
       "1  Godhelpusameric  2020-10-31 09:24:34  ...         23                 1\n",
       "3    JamieParrigin  2020-10-31 09:24:34  ...         26                 1\n",
       "4     Powerfader54  2020-10-31 09:24:34  ...         17                 1\n",
       "5     America_Mine  2020-10-31 09:24:34  ...         23                 0\n",
       "\n",
       "[5 rows x 7 columns]"
      ]
     },
     "execution_count": 43,
     "metadata": {
      "tags": []
     },
     "output_type": "execute_result"
    }
   ],
   "source": [
    "# get a word count per sentence column\n",
    "def word_count(sentence):\n",
    "    return len(sentence.split())\n",
    "    \n",
    "dataset['word count'] = dataset['text'].apply(word_count)\n",
    "dataset.head(5)"
   ]
  },
  {
   "cell_type": "code",
   "execution_count": null,
   "metadata": {
    "id": "eMiPOPdiZg56"
   },
   "outputs": [],
   "source": []
  },
  {
   "cell_type": "code",
   "execution_count": 44,
   "metadata": {
    "colab": {
     "base_uri": "https://localhost:8080/"
    },
    "id": "LIs9QSlWYq1X",
    "outputId": "9a7f00eb-1873-4561-a73e-7e84499d213a"
   },
   "outputs": [
    {
     "data": {
      "text/plain": [
       "Index(['author', 'date', 'text', 'Sentiment_Polarity', 'Expression Label',\n",
       "       'word count', 'Expression label'],\n",
       "      dtype='object')"
      ]
     },
     "execution_count": 44,
     "metadata": {
      "tags": []
     },
     "output_type": "execute_result"
    }
   ],
   "source": [
    "dataset.columns"
   ]
  },
  {
   "cell_type": "code",
   "execution_count": null,
   "metadata": {
    "id": "RpCp5g6ma3sV"
   },
   "outputs": [],
   "source": []
  },
  {
   "cell_type": "code",
   "execution_count": 45,
   "metadata": {
    "colab": {
     "base_uri": "https://localhost:8080/",
     "height": 405
    },
    "id": "wRXc_-qoX-qQ",
    "outputId": "580a09db-f36b-4f32-a0a9-68193b1f6907"
   },
   "outputs": [
    {
     "data": {
      "text/plain": [
       "<matplotlib.legend.Legend at 0x7ff9dc6913c8>"
      ]
     },
     "execution_count": 45,
     "metadata": {
      "tags": []
     },
     "output_type": "execute_result"
    },
    {
     "data": {
      "image/png": "[encoded data removed]",
      "text/plain": [
       "<Figure size 864x432 with 1 Axes>"
      ]
     },
     "metadata": {
      "needs_background": "light",
      "tags": []
     },
     "output_type": "display_data"
    }
   ],
   "source": [
    "# plot word count distribution for both positive and negative sentiments\n",
    "x = dataset['word count'][dataset['Expression label'] == 1]\n",
    "y = dataset['word count'][dataset['Expression label'] == 0]\n",
    "plt.figure(figsize=(12,6))\n",
    "plt.xlim(0,45)\n",
    "plt.xlabel('word count')\n",
    "plt.ylabel('frequency')\n",
    "g = plt.hist([x, y], color=['r','b'], alpha=0.5, label=['positive','negative'])\n",
    "plt.legend(loc='upper right')"
   ]
  },
  {
   "cell_type": "code",
   "execution_count": 49,
   "metadata": {
    "colab": {
     "base_uri": "https://localhost:8080/"
    },
    "id": "kzEYgyxK6ilp",
    "outputId": "358b651c-1451-4b54-f69f-55f6100588bb"
   },
   "outputs": [
    {
     "data": {
      "text/plain": [
       "[('rt', 1769),\n",
       " ('the', 1391),\n",
       " ('to', 972),\n",
       " ('a', 759),\n",
       " ('and', 736),\n",
       " ('trump', 711),\n",
       " ('of', 651),\n",
       " ('is', 650),\n",
       " ('in', 628),\n",
       " ('biden', 580)]"
      ]
     },
     "execution_count": 49,
     "metadata": {
      "tags": []
     },
     "output_type": "execute_result"
    }
   ],
   "source": [
    "# get most common words in training dataset\n",
    "all_words = []\n",
    "for line in list(dataset['text']):\n",
    "    words = line.split()\n",
    "    for word in words:\n",
    "        all_words.append(word.lower())\n",
    "    \n",
    "    \n",
    "Counter(all_words).most_common(10)"
   ]
  },
  {
   "cell_type": "code",
   "execution_count": 50,
   "metadata": {
    "colab": {
     "base_uri": "https://localhost:8080/",
     "height": 446
    },
    "id": "mIQhbEKEbzM8",
    "outputId": "16005d1d-e9cc-4858-9ab5-fe6c7eb7c7de"
   },
   "outputs": [
    {
     "data": {
      "image/png": "[encoded data removed]",
      "text/plain": [
       "<Figure size 864x360 with 1 Axes>"
      ]
     },
     "metadata": {
      "tags": []
     },
     "output_type": "display_data"
    }
   ],
   "source": [
    "# plotting word frequency distribution of first few words\n",
    "plt.figure(figsize=(12,5))\n",
    "plt.title('Top 25 most common words')\n",
    "plt.xticks(fontsize=13, rotation=90)\n",
    "fd = nltk.FreqDist(all_words)\n",
    "fd.plot(25,cumulative=False)"
   ]
  },
  {
   "cell_type": "code",
   "execution_count": 51,
   "metadata": {
    "id": "6g5hWbzofpV7"
   },
   "outputs": [],
   "source": [
    "\n",
    "\n",
    "def preprocess(tweet):\n",
    "    \n",
    "    #Convert www.* or https?://* to URL\n",
    "    tweet = re.sub('((www\\.[^\\s]+)|(https?://[^\\s]+))','URL',tweet)\n",
    "    \n",
    "    #Convert @username to __USERHANDLE\n",
    "    tweet = re.sub('@[^\\s]+','__USERHANDLE',tweet)  \n",
    "    \n",
    "    #Replace #word with word\n",
    "    tweet = re.sub(r'#([^\\s]+)', r'\\1', tweet)\n",
    "    \n",
    "    #trim\n",
    "    tweet = tweet.strip('\\'\"')\n",
    "    \n",
    "    # Repeating words like hellloooo\n",
    "    repeat_char = re.compile(r\"(.)\\1{1,}\", re.IGNORECASE)\n",
    "    tweet = repeat_char.sub(r\"\\1\\1\", tweet)\n",
    "    \n",
    "    #Emoticons\n",
    "    emoticons = \\\n",
    "    [\n",
    "     ('__positive__',[ ':-)', ':)', '(:', '(-:', \\\n",
    "                       ':-D', ':D', 'X-D', 'XD', 'xD', \\\n",
    "                       '<3', ':\\*', ';-)', ';)', ';-D', ';D', '(;', '(-;', ] ),\\\n",
    "     ('__negative__', [':-(', ':(', '(:', '(-:', ':,(',\\\n",
    "                       ':\\'(', ':\"(', ':((','D:' ] ),\\\n",
    "    ]\n",
    "\n",
    "    def replace_parenthesis(arr):\n",
    "       return [text.replace(')', '[)}\\]]').replace('(', '[({\\[]') for text in arr]\n",
    "    \n",
    "    def join_parenthesis(arr):\n",
    "        return '(' + '|'.join( arr ) + ')'\n",
    "\n",
    "    emoticons_regex = [ (repl, re.compile(join_parenthesis(replace_parenthesis(regx))) ) \\\n",
    "            for (repl, regx) in emoticons ]\n",
    "    \n",
    "    for (repl, regx) in emoticons_regex :\n",
    "        tweet = re.sub(regx, ' '+repl+' ', tweet)\n",
    "\n",
    "     #Convert to lower case\n",
    "    tweet = tweet.lower()\n",
    "    \n",
    "    return tweet\n",
    "\n",
    "\n",
    "\n",
    "\n",
    "#Stemming of Tweets\n",
    "\n",
    "def stem(tweet):\n",
    "        stemmer = nltk.stem.PorterStemmer()\n",
    "        tweet_stem = ''\n",
    "        words = [word if(word[0:2]=='__') else word.lower() \\\n",
    "                    for word in tweet.split() \\\n",
    "                    if len(word) >= 3]\n",
    "        words = [stemmer.stem(w) for w in words] \n",
    "        tweet_stem = ' '.join(words)\n",
    "        return tweet_stem\n",
    "\n",
    "\n",
    "\n",
    "\n",
    "\n",
    "\n"
   ]
  },
  {
   "cell_type": "markdown",
   "metadata": {
    "id": "dHZJppKfomDF"
   },
   "source": [
    "**NAIVE BAYES METHOD**"
   ]
  },
  {
   "cell_type": "code",
   "execution_count": 52,
   "metadata": {
    "id": "IyrPTxpQKvbz"
   },
   "outputs": [],
   "source": [
    "X=dataset.iloc[:,2].values\n",
    "X=pd.Series(X)\n",
    "y=dataset.iloc[:,6].values\n",
    "\n",
    "        \n",
    "X_train, X_test, y_train, y_test = train_test_split(X,y,test_size=0.20, random_state=5)\n",
    "\n",
    "X_train = [stem(preprocess(tweet)) for tweet in X_train]\n",
    "X_test = [stem(preprocess(tweet)) for tweet in X_test]"
   ]
  },
  {
   "cell_type": "code",
   "execution_count": 53,
   "metadata": {
    "id": "n-52o-dRKvrt"
   },
   "outputs": [],
   "source": [
    "vec = TfidfVectorizer(min_df=5, max_df=0.95, sublinear_tf = True,use_idf = True,ngram_range=(1, 2))\n",
    "X_train_vec = vec.fit_transform(X_train)\n",
    "nb = MultinomialNB()\n",
    "nb.fit(X_train_vec,y_train)\n",
    "X_test_vec = vec.transform(X_test)\n",
    "pred = nb.predict(X_test_vec)"
   ]
  },
  {
   "cell_type": "code",
   "execution_count": 54,
   "metadata": {
    "colab": {
     "base_uri": "https://localhost:8080/"
    },
    "id": "HkCKv8eOJWI5",
    "outputId": "a4b73e33-8a75-4ba5-dd95-36db87821a50"
   },
   "outputs": [
    {
     "name": "stdout",
     "output_type": "stream",
     "text": [
      "0.8278145695364238\n"
     ]
    }
   ],
   "source": [
    "print(metrics.accuracy_score(y_test, pred))\n"
   ]
  },
  {
   "cell_type": "code",
   "execution_count": 13,
   "metadata": {
    "colab": {
     "base_uri": "https://localhost:8080/"
    },
    "id": "dQ9A4FZUh1zu",
    "outputId": "31a3ea00-899c-472f-f1a3-aa18c357dd30"
   },
   "outputs": [
    {
     "name": "stdout",
     "output_type": "stream",
     "text": [
      "[[101  68]\n",
      " [ 10 274]]\n"
     ]
    }
   ],
   "source": [
    "print(metrics.confusion_matrix(y_test, pred))"
   ]
  },
  {
   "cell_type": "code",
   "execution_count": 13,
   "metadata": {
    "id": "ULjWcYMhJ1Dz"
   },
   "outputs": [],
   "source": [
    "\n",
    "\n"
   ]
  },
  {
   "cell_type": "code",
   "execution_count": 14,
   "metadata": {
    "colab": {
     "base_uri": "https://localhost:8080/",
     "height": 254
    },
    "id": "hWM0Jxm2HUgR",
    "outputId": "45823bd9-8291-45b2-deba-cb9020d86ea5"
   },
   "outputs": [
    {
     "data": {
      "image/png": "[encoded data removed]",
      "text/plain": [
       "<Figure size 288x288 with 2 Axes>"
      ]
     },
     "metadata": {
      "needs_background": "light",
      "tags": []
     },
     "output_type": "display_data"
    }
   ],
   "source": [
    "cm = metrics.confusion_matrix(y_test, pred)\n",
    "pl.matshow(cm)\n",
    "#pl.title('Confusion matrix of the classifier')\n",
    "pl.colorbar()\n",
    "pl.show()\n",
    "\n"
   ]
  },
  {
   "cell_type": "code",
   "execution_count": 15,
   "metadata": {
    "colab": {
     "base_uri": "https://localhost:8080/"
    },
    "id": "ExoVLw4RHZXF",
    "outputId": "f558ed55-b28d-41b2-c78b-93fd7b10e3d8"
   },
   "outputs": [
    {
     "name": "stdout",
     "output_type": "stream",
     "text": [
      "              precision    recall  f1-score   support\n",
      "\n",
      "           0       0.91      0.60      0.72       169\n",
      "           1       0.80      0.96      0.88       284\n",
      "\n",
      "    accuracy                           0.83       453\n",
      "   macro avg       0.86      0.78      0.80       453\n",
      "weighted avg       0.84      0.83      0.82       453\n",
      "\n"
     ]
    }
   ],
   "source": [
    "\n",
    "print(metrics.classification_report(y_test, pred))"
   ]
  },
  {
   "cell_type": "code",
   "execution_count": 15,
   "metadata": {
    "id": "tjj5Cm7YJl4A"
   },
   "outputs": [],
   "source": []
  },
  {
   "cell_type": "code",
   "execution_count": 15,
   "metadata": {
    "id": "-ws-UtOenF2B"
   },
   "outputs": [],
   "source": []
  },
  {
   "cell_type": "markdown",
   "metadata": {
    "id": "UzA4vahJnGNz"
   },
   "source": [
    "**SUPPORT VECTOR MACHINE**"
   ]
  },
  {
   "cell_type": "code",
   "execution_count": 16,
   "metadata": {
    "id": "2lx4A3Hwnmyj"
   },
   "outputs": [],
   "source": [
    "from sklearn import svm"
   ]
  },
  {
   "cell_type": "code",
   "execution_count": 17,
   "metadata": {
    "id": "dkxeYrb-nGnX"
   },
   "outputs": [],
   "source": [
    "model = svm.SVC(kernel='linear') \n",
    "model.fit(X_train_vec, y_train) \n",
    "predicted_sentiment = model.predict(X_test_vec)\n"
   ]
  },
  {
   "cell_type": "code",
   "execution_count": 18,
   "metadata": {
    "colab": {
     "base_uri": "https://localhost:8080/"
    },
    "id": "ffXIDmNqn24n",
    "outputId": "c3ec486b-c374-45a6-c3d4-61e509bc3956"
   },
   "outputs": [
    {
     "name": "stdout",
     "output_type": "stream",
     "text": [
      "0.8587196467991169\n"
     ]
    }
   ],
   "source": [
    "print(metrics.accuracy_score(y_test, predicted_sentiment))"
   ]
  },
  {
   "cell_type": "code",
   "execution_count": 19,
   "metadata": {
    "colab": {
     "base_uri": "https://localhost:8080/"
    },
    "id": "mvFtbxfGoGWf",
    "outputId": "e480ce14-7cc2-4be9-d176-1b3116caf725"
   },
   "outputs": [
    {
     "name": "stdout",
     "output_type": "stream",
     "text": [
      "[[128  41]\n",
      " [ 23 261]]\n"
     ]
    }
   ],
   "source": [
    "print(metrics.confusion_matrix(y_test, predicted_sentiment))"
   ]
  },
  {
   "cell_type": "code",
   "execution_count": 20,
   "metadata": {
    "colab": {
     "base_uri": "https://localhost:8080/",
     "height": 254
    },
    "id": "0hxUDb36oNLD",
    "outputId": "0864b2c3-8359-45a9-db9e-6ba0c4aabfed"
   },
   "outputs": [
    {
     "data": {
      "image/png": "[encoded data removed]",
      "text/plain": [
       "<Figure size 288x288 with 2 Axes>"
      ]
     },
     "metadata": {
      "needs_background": "light",
      "tags": []
     },
     "output_type": "display_data"
    }
   ],
   "source": [
    "cm1 = metrics.confusion_matrix(y_test, predicted_sentiment)\n",
    "pl.matshow(cm)\n",
    "#pl.title('Confusion matrix of the classifier')\n",
    "pl.colorbar()\n",
    "pl.show()\n"
   ]
  },
  {
   "cell_type": "code",
   "execution_count": 21,
   "metadata": {
    "colab": {
     "base_uri": "https://localhost:8080/"
    },
    "id": "AHU6TnRLng3q",
    "outputId": "b3ff4b67-5a0d-46a2-8765-b325fd51b878"
   },
   "outputs": [
    {
     "name": "stdout",
     "output_type": "stream",
     "text": [
      "              precision    recall  f1-score   support\n",
      "\n",
      "           0       0.85      0.76      0.80       169\n",
      "           1       0.86      0.92      0.89       284\n",
      "\n",
      "    accuracy                           0.86       453\n",
      "   macro avg       0.86      0.84      0.85       453\n",
      "weighted avg       0.86      0.86      0.86       453\n",
      "\n"
     ]
    }
   ],
   "source": [
    "print(metrics.classification_report(y_test, predicted_sentiment))"
   ]
  },
  {
   "cell_type": "code",
   "execution_count": 1,
   "metadata": {
    "id": "W7Cjr7Xfnvz9"
   },
   "outputs": [],
   "source": []
  },
  {
   "cell_type": "code",
   "execution_count": null,
   "metadata": {
    "id": "oWUSZpbqV3Nt"
   },
   "outputs": [],
   "source": []
  },
  {
   "cell_type": "markdown",
   "metadata": {
    "id": "MKeDWcGviFu1"
   },
   "source": [
    "**ANOTHER METHOD**"
   ]
  },
  {
   "cell_type": "code",
   "execution_count": 55,
   "metadata": {
    "id": "M_oERESPiWUV"
   },
   "outputs": [],
   "source": [
    "#pass security information to variables\n",
    "consumer_key = 'Fkq1YtWMXJfm7rqFQe6bUMKnk'\n",
    "consumer_secret = 'tbQFEXaYskF6vfHMN0xpBhjuDGIYP6vpNk4TYEsbn3ETOj6YKY'\n",
    "access_token = '1254116935006072833-4lYrmDIsHq9wbVan3VDtdzwkeWe6Nc'\n",
    "access_token_secret = 'f9zpd5uYABZCiK28Cixp5kR3dy6bFbXybDfwiWRMFvaa3'\n",
    "auth= tweepy.OAuthHandler(consumer_key,consumer_secret)\n",
    "auth.set_access_token(access_token,access_token_secret)\n",
    "api= tweepy.API(auth, wait_on_rate_limit= True)\n"
   ]
  },
  {
   "cell_type": "code",
   "execution_count": 60,
   "metadata": {
    "colab": {
     "base_uri": "https://localhost:8080/"
    },
    "id": "SuvvMROUiOjx",
    "outputId": "dccc7d3f-1264-496e-ddf0-c1732272f7bd"
   },
   "outputs": [
    {
     "name": "stdout",
     "output_type": "stream",
     "text": [
      "tweet number: 0 Seems pretty certain. It’s almost as if they know no matter what the vote count for Donald Trump is, Joe Biden’s wi… https://t.co/JM5tADBHF7 South Carolina, USA\n",
      "tweet number: 1 THREAD: I’ll go on a whim here and say I THINK JOE BIDEN IS GOING TO WIN. Here are simulations below for Biden and… https://t.co/kirizS2TN1 Pretoria, South Africa\n",
      "tweet number: 2 UPDATE on #election2020:\n",
      "Joe #Biden wins if he gets AZ + NV + ME + MI + WI.\n",
      "President #Trump wins if he gets GA + P… https://t.co/5jXvA7T7Ee Georgia, USA\n",
      "tweet number: 3 Joe Biden is leading in Michigan and Wisconsin, which President Trump won in 2016. By early Wednesday, Biden had th… https://t.co/VGCfREMNyi Nairobi, Kenya\n",
      "tweet number: 4 Joe Biden's path to an Electoral College win widens as more votes get counted #Election2020 https://t.co/5epjcRwtRo\n",
      "https://t.co/IUfaiLiS2B Ashland, KY\n",
      "tweet number: 5 Sleepy Joe needs 46 electoral college votes and if those states in light blue (where he is ahead) go Democrat he’ll… https://t.co/IFxjkN6jaW Birmingham, England\n",
      "tweet number: 6 #Election2020\n",
      "\"Until every vote is counted, until every ballot is counted\" ~Vice Pres Joe Biden's words of wisdom t… https://t.co/Tfn4wduEBK Coast, Kenya\n",
      "tweet number: 7 Donald Trump when he sees Joe Biden pulling up outside the Whitehouse.\n",
      "\n",
      "#Elections #Election2020 #Elections2020… https://t.co/xuOfNI5Fpq Milton Keynes, England\n",
      "tweet number: 8 Paths to victory: How President Donald Trump or Democrat Joe Biden could win the presidential election as of Wednes… https://t.co/n65uPxSaih Houston, TX\n",
      "tweet number: 9 Would #Michigan turn the tables now? 😀\n",
      "\n",
      "The Governor of the Michigan state was kidnapped and rescued during the cou… https://t.co/adRtgOXYZP Viluppuram, India\n",
      "tweet number: 10 If Joe Biden is so great and Donald Trump is so bad, why is Biden struggling to defeat Trump?\n",
      "\n",
      "#Elections… https://t.co/5yrqm1Ep1R Milton Keynes, England\n",
      "tweet number: 11 New #2020election results: Joe Biden is leading in the presidential race now with 88.55% precincts reporting\n",
      "Joe Bi… https://t.co/j88mQTWj9a Londontowne, MD\n",
      "tweet number: 12 Joe Biden is still favored to win the presidency. However, Trump seems to have helped the GOP maintain the senate. \n",
      "\n",
      "#Election2020 Ellisville, MO\n",
      "tweet number: 13 I fell asleep before Trump showed his ass. It’s probably for the best. I feel great about Joe Biden’s chances of wi… https://t.co/2NZ3qq4Tc4 Manhattan, NY\n",
      "tweet number: 14 ALL EYES ON GEORGIA: 94% of votes reported in the state, per the @AP. President Trump leads with 50.5% of the votes… https://t.co/FfnqvmAWbG Atlanta, GA\n",
      "tweet number: 15 Trump or joe biden\n",
      "#ElectionDay2020\n",
      "#UnitedStatesofAmerica\n",
      "#PresidentialElection2020\n",
      "#Election2020 Lahore, Pakistan\n",
      "tweet number: 16 Trump for India Joe Biden for pakistan pundits says 😖\n",
      "#Election2020 #Elections2020 #ElectionNight #ElectionDay Rawalpindi, Pakistan\n",
      "tweet number: 17 Joe Biden is bad for Americans. Trump claims vindication at last. We saw a huge election victory for President Trum… https://t.co/LjOTBxQzX0 El Cajon, CA\n",
      "tweet number: 18 Hope Joe Biden wins and becomes president after that statement by Trump! Guy has totally lost the plot! #Election2020 #ElectionDay Bembridge, England\n",
      "tweet number: 19 #ElectionDay\n",
      "\n",
      "Joe Biden wins Arizona and its 11 electoral votes, AP reports.\n",
      "\n",
      "See TIME’s full #Election2020 coverag… https://t.co/KmRsHVZuv2 Coast, Kenya\n",
      "tweet number: 20 #US_Election2020 → Joe Biden is likely to be the next President of USA, he is also likely to have more popular vote… https://t.co/OcRp3zdc8A Woodbury, MN\n",
      "tweet number: 21 224- Joe Biden \n",
      "213- Donald Trump \n",
      "\n",
      "and Trump declaring himself? hmmmmmmmmmmm \n",
      "\n",
      "#Election2020 Valenzuela City, National Capital Region\n",
      "tweet number: 22 GEORGIA - 16 electoral votes\n",
      "Donald Trump: 50.7% - 2,366,242\n",
      "Joe Biden: 48.1%  - 2,248,032\n",
      "Reporting: 93%… https://t.co/ABHrH2qBwn Sindh, Pakistan\n",
      "tweet number: 23 (As of 2:33 pm) Joe Biden got 224 Electoral votes while Donald Trump got 213 Electoral votes. #Election2020 … https://t.co/wgGQBOJaMI Quezon City, National Capital Region\n",
      "tweet number: 24 After majority of states have had their results projected, Joe Biden says “we believe we’re on track to win”. Donal… https://t.co/z7kkacRLey Paddington, London\n",
      "tweet number: 25 President Trump and Joe Biden shift their focus to Wisconsin, Michigan and Pennsylvania, three states that could ag… https://t.co/btbjeXIPtf Nairobi, Kenya\n",
      "tweet number: 26 US election, popular vote. \n",
      "Donald Trump: 48.6% - 61,338,764\n",
      "Joe Biden: 49.8% - 62,937,513\n",
      "#Election2020… https://t.co/kfJbZHz2ZQ Sindh, Pakistan\n",
      "tweet number: 27 Joe Biden spoke because he had to go to bed. Trump will speak as soon as he sniffs his Adderall\n",
      "#Election2020 Montréal, Québec\n",
      "tweet number: 28 Meanwhile Former Vice President Joe Biden spoke a few minutes ago, saying  \"It’s not my place or Donald Trump’s pla… https://t.co/hmk6cnWmov North Little Rock, AR\n",
      "tweet number: 29 Trump narrowly wins Florida. \n",
      "\n",
      "Joe Biden will speak any minute.\n",
      "\n",
      "#election2020 Colorado Springs, CO\n",
      "tweet number: 30 WISCONSIN - 10 electoral votes\n",
      "\n",
      "Donald Trump: 51.6% - 1,305,989\n",
      "\n",
      "Joe Biden: 46.9% - 1,188,676\n",
      "\n",
      "Reporting: 79%\n",
      "\n",
      "#ElectionNight #Election2020 Oldham, England\n",
      "tweet number: 31 12:30am Eastern Popular Vote standings, according to #APracecall\n",
      "\n",
      "Joe Biden: 60.4 million votes\n",
      "\n",
      "Donald Trump: 59.3… https://t.co/65ckTuTd4Z Washington, DC\n",
      "tweet number: 32 Road to 270\n",
      "Early Results for “Too early to Call.”\n",
      "Trump: 136\n",
      "Biden : 205\n",
      "\n",
      "If Joe get the most states like Arizona… https://t.co/FfcJLvShBO Arden-Arcade, CA\n",
      "tweet number: 33 12am Eastern Popular Vote standings, according to #APracecall\n",
      "\n",
      "Joe Biden: 58.8 million votes\n",
      "\n",
      "Donald Trump: 57.3 mi… https://t.co/oV3lOR0tI6 Washington, DC\n",
      "tweet number: 34 As of 1:02 pm, Joe Biden got 213 Electoral votes while incumbent US Pres. Trump got 118 Electoral votes… https://t.co/KEp7Zl2FP6 Quezon City, National Capital Region\n",
      "tweet number: 35 Joe Biden stands tall with 209 electoral votes over Donald Trump's 118. \n",
      "\n",
      "Based on the trajectory of the mail in ba… https://t.co/2Kcr9eJkhk Houston, TX\n",
      "tweet number: 36 WISCONSIN - 10 electoral votes\n",
      "\n",
      "Donald Trump: 51.8% - 1,142,550\n",
      "\n",
      "Joe Biden: 46.7% - 1,030,807\n",
      "\n",
      "Reporting: 69%\n",
      "\n",
      "#ElectionNight #Election2020 Oldham, England\n",
      "tweet number: 37 11:30pm Eastern Popular Vote standings, according to #APracecall\n",
      "\n",
      "Joe Biden: 55.6 million votes\n",
      "\n",
      "Donald Trump: 54.3… https://t.co/yAxaiA1TSy Washington, DC\n",
      "tweet number: 38 My husband has voted for Trump and I’m praying for Joe Biden to win 😂\n",
      "Most unique family, isn’t it?! \n",
      "\n",
      "اللھم لا تسل… https://t.co/zyqnuID9WS United States\n",
      "tweet number: 39 Will Donald Trump be re-elected? Or will our former VP Joe Biden become our next President? #ElectionNight #Election2020 #ElectionDay Huntington Beach, CA\n",
      "tweet number: 40 11pm Eastern Popular Vote standings, according to #APracecall\n",
      "\n",
      "Donald Trump: 46.6 million votes\n",
      "\n",
      "Joe Biden: 44.5 mi… https://t.co/l2949P0TIr Washington, DC\n",
      "tweet number: 41 Joe Biden is projected to win New Mexico #Election2020 https://t.co/JqgJFTgTq6 https://t.co/qduacYAruf… https://t.co/aYKZZ0vole North-west Frontier, Pakistan\n",
      "tweet number: 42 If Joe Biden is to win, realistically there are only 4 states left he can flip:\n",
      "Wisconsin, Michigan, Pennsylvania a… https://t.co/vplbPZLcIy Lambeth, London\n",
      "tweet number: 43 Even Donald Trump fears women more than Joe Biden. #ElectionDay #Election2020 https://t.co/3BAZ0g24oX Accra, Ghana\n",
      "tweet number: 44 “If Joe Biden rebuilds the blue wall, Donald Trump will pay for it” - John King! 😂 #johnking for prez #Election2020 Fort Worth, TX\n",
      "tweet number: 45 Early results from the US presidential election between incumbent Republican Donald Trump and his Democratic challe… https://t.co/gYJcyHH88S Sri Lanka\n",
      "tweet number: 46 10:30pm Eastern Popular Vote standings, according to #APracecall\n",
      "\n",
      "Donald Trump: 40.2 million votes\n",
      "\n",
      "Joe Biden: 38.5… https://t.co/aEB7UuXerz Washington, DC\n",
      "tweet number: 47 Trump went from -585 fo -280 within seconds and live betting line is off. \n",
      "\n",
      "Joe Biden with low key back door cover here? #Election2020 Miami, FL\n",
      "tweet number: 48 10pm Eastern Popular Vote standings, according to #APracecall\n",
      "\n",
      "Donald Trump: 33.4 million votes\n",
      "\n",
      "Joe Biden: 32.1 mi… https://t.co/wXVIoMxcps Washington, DC\n",
      "tweet number: 49 US Presidential Election 2020 Update: Democratic candidate Joe Biden holds the lead over President Trump in the ele… https://t.co/ClGH681PGR Sri Lanka\n",
      "tweet number: 50 9:30pm Eastern Popular Vote standings, according to #APracecall\n",
      "\n",
      "Donald Trump: 27 million votes\n",
      "\n",
      "Joe Biden: 26.1 mi… https://t.co/nNXzswwDuz Washington, DC\n",
      "tweet number: 51 JUST IN: President Trump has won Louisiana, North Dakota, South Dakota, Nebraska and Wyoming, while Joe Biden has w… https://t.co/dfTZa7Duvz Mount Juliet, TN\n",
      "tweet number: 52 JUST IN: Former VP Joe Biden is projected to win New York. Biden now leads President Donald Trump 59-42 #Election2020 #AmericaDecides Phoenix, AZ\n",
      "tweet number: 53 9pm Eastern Popular Vote standings, according to #APracecall\n",
      "\n",
      "Donald Trump: 20.6 million votes\n",
      "\n",
      "Joe Biden: 19.7 mil… https://t.co/AfytsTvFgO Washington, DC\n",
      "tweet number: 54 it feels like the election is fantasy football - Joe Biden got a big lead on Thursday Night Football and is just tr… https://t.co/vWuhItkc8p Palm Harbor, FL\n",
      "tweet number: 55 8:35 PM election update.\n",
      "\n",
      "Trump projected to take Arkansas.\n",
      "\n",
      "Lead for Joe Biden is now 88-72.\n",
      "#Election2020 Mount Pleasant, MI\n",
      "tweet number: 56 #Biden inching ahead of #Trump in #TEXAS - 38 electoral votes\n",
      "\n",
      "Donald Trump: 48.5% - 2,987,084\n",
      "\n",
      "Joe Biden: 50.2% -… https://t.co/nHbSDMY9lL Glasgow, Scotland\n",
      "tweet number: 57 JUST IN: President Trump is projected to win West Virginia. Now how 42 electoral votes over Former VP Joe Biden’s 3… https://t.co/Cdm2yyB49F Phoenix, AZ\n",
      "tweet number: 58 #Florida right now. @AP_Politics reporting 75% of the precincts in. President Donald #Trump in the lead w/ 50% of t… https://t.co/75C4Xmc4HJ Feather Sound, FL\n",
      "tweet number: 59 JUST IN: President Trump is projected to win Tennessee. He know leads Former VP Joe Biden in electoral votes 37-30… https://t.co/IHUwopc6jB Phoenix, AZ\n",
      "tweet number: 60 8:20 PM election update\n",
      "\n",
      "Trump projected to win Indiana.\n",
      "\n",
      "88-66 Joe Biden.\n",
      "#Election2020 Mount Pleasant, MI\n",
      "tweet number: 61 8:05 PM election update\n",
      "\n",
      "A lot of states just called at the top of the hour, many as expected.\n",
      "\n",
      "Via Politico, Joe B… https://t.co/OtImPef6XD Mount Pleasant, MI\n",
      "tweet number: 62 OHIO starts #Joe way - 18 electoral votes\n",
      "\n",
      "Donald Trump: 35.6% - 434,751\n",
      "\n",
      "Joe Biden: 64.5% - 749,348\n",
      "\n",
      "Reporting: 20… https://t.co/JYlEnj2yrk Glasgow, Scotland\n",
      "tweet number: 63 As predicted Biden is not doing that well in Miami-Dade. Trump’s campaign strategy depicting Joe Biden as a sociali… https://t.co/ZkFdgk6T8C Miami, FL\n",
      "tweet number: 64 And now, let the cardiac events begin 🥃😳😰\n",
      "\n",
      "#BidenHarrisToEndThisNightmare\n",
      "#ThisIsNotNormal #ThisIsNotOkay… https://t.co/fxBJRJkb9Y Washington, DC\n",
      "tweet number: 65 JOE BIDEN OR DONALD TRUMP? WHO WINS?? #ElectionNight #Election2020 Malmo, Sweden\n",
      "tweet number: 66 Young Joe Biden and young Donald Trump. #Election2020 https://t.co/RGGhKtAK3M Sydney, New South Wales\n",
      "tweet number: 67 Thank you @IndianExpress for quoting me in your headlines. #Election2020 #ElectionDay \n",
      "#JusticeForPaneerTikka \n",
      "\n",
      "https://t.co/32Qvvz1T58 Mumbai, India\n",
      "tweet number: 68 Today is Election Day, and you have two important choices at the top of the ballot:  You can choose the radical lef… https://t.co/f6KDgBjx5T Plano, TX\n",
      "tweet number: 69 #Florida just reached 100% of 2016’s voter turnout number. Needless to say I’m feeling proud of my state for showin… https://t.co/F24dqB2GtB Florida, USA\n",
      "tweet number: 70 *** PRESIDENTIAL ELECTION\n",
      "&gt;&gt;&gt; https://t.co/nQkPyyFbjO\n",
      "#Election2020 #ElectionDay #BidenHarris2020 #Donald Trump… https://t.co/TyDHE0Ap5d East Nusa Tenggara, Indonesia\n",
      "tweet number: 71 @Anaridis The other I want say is this. Regardless of the outcome. President Trump or Joe Biden when either declare… https://t.co/YIAG8s9meg Hingham, MA\n",
      "tweet number: 72 Good morning peeps remember that if you vote Joe Biden, Donald Trump, Kayne West, or Scooby Doo... I don't care we'… https://t.co/r7s5tVy4eY Charlotte, NC\n",
      "tweet number: 73 Here’s what I am watching in Texas today. What happens in each of these areas will go a long way in determining whe… https://t.co/MbiJ366ttx Anderson Mill, TX\n",
      "tweet number: 74 US Presidential Election Begins.\n",
      "Keen race between President Donald Trump and his Democratic challenger Joe Biden.… https://t.co/5h7qzk37SW Sri Lanka\n",
      "tweet number: 75 The night before #ElectionDay Joe Biden and Kamala Harris had Lady Gaga and John Legend come out to support them. T… https://t.co/XYUMUFhHL0 Atascocita, TX\n",
      "tweet number: 76 She knows #Election2020\n",
      "#TrumpCollapse #BidenHarris2020\n",
      "Winston Churchill's granddaughter says she has voted for Jo… https://t.co/uxuhIGMvol Southampton, England\n",
      "tweet number: 77 Fighting in the Back to Brunch corner, The challenger, the Democrat nominee. JOE BIDEN.\n",
      "\n",
      "Fighting in the MAGA corne… https://t.co/lGmH6Srapo Baltimore, MD\n",
      "tweet number: 78 Which One You Guys Are Aupporting Today Trump or Biden ? \n",
      "What's your prediction ?\n",
      "Like For Donald Trump\n",
      "Retweet Fo… https://t.co/d4w9y5jLET Karachi, Pakistan\n",
      "tweet number: 79 We voting down Trump \n",
      "\n",
      "We voting up Joe Biden\n",
      "\n",
      "#ElectionDay\n",
      "#Election2020 \n",
      "#Elections2020 \n",
      "#Vote Kumasi, Ghana\n",
      "tweet number: 80 How President Trump or Joe Biden can win the 2020 presidential election: https://t.co/poXjtqW7by #ElectionDay… https://t.co/sW9SnxVRAD Landsmeer, Nederland\n",
      "tweet number: 81 That's up to us. Not Joe Biden or Donald Trump or Congress, but us. The American People.\n",
      "\n",
      "#Election2020 Colorado, USA\n",
      "tweet number: 82 Joe Biden tonight in #Pittsburgh:\n",
      "\n",
      "“It’s time for Donald Trump to pack his bags and go home.”\n",
      "\n",
      "#ElectionEve… https://t.co/B1Ukfqj8CE Heinz Field\n",
      "tweet number: 83 Donald Trump is chasing his Democratic rival Joe Biden, still leading in the polls. #VOTE #ABD #Election2020 #Joe B… https://t.co/pp22nOZjzU İstanbul, Türkiye\n",
      "tweet number: 84 When Trump gets done with Biden tomorrow, Joe’s gonna wish he was married to a REAL doctor. \n",
      "\n",
      "#Election2020 \n",
      "#KAG… https://t.co/azy5dFhFXR Arlington, VA\n",
      "tweet number: 85 Hypothetically if JOE BIDEN HOLDS HILLARY’S 232 &amp; #PENNSYLVANIA, #MICHIGAN, &amp; #WISCONSIN FROM DONALD TRUMP? #Trump… https://t.co/L0wcHo39sA Lowell, MA\n",
      "tweet number: 86 Donald Trump czy Joe Biden ?\n",
      "#Election2020 \n",
      "#ElectionDay https://t.co/Sph94ixFUQ Warsaw, Poland\n",
      "tweet number: 87 Joe Biden talks directly to the American people while Campaigning, Donald Trump attacks Joe Biden rather than talki… https://t.co/qKwCuNUPR6 New South Wales, Australia\n",
      "tweet number: 88 Today President Trump &amp; Democratic Challenger, Joe Biden, are making their \n",
      "final campaign lap ahead of Election Da… https://t.co/iwnhw6ZUq8 Tallahassee, FL\n",
      "tweet number: 89 So, the US elections start tomorrow. Donald Trump or Joe Biden, who will win? #2020Election #Election2020 Flexbury, England\n",
      "tweet number: 90 \"... the Biden-Harris ticket offers us higher taxes and a nanny state that will bow to the bullies ....\"… https://t.co/XnhHeoC5ZM Georgia, USA\n",
      "tweet number: 91 #TrumpIsLosing \n",
      "#TrumpTrain\n",
      "#Trump\n",
      "#DonaldTrump \n",
      "#PresidentTrump \n",
      "#UnitedStates \n",
      "#USA\n",
      "#Election2020 \n",
      "#VOTE\n",
      "More Tru… https://t.co/eaBOrqxU5l Annapolis Neck, MD\n",
      "tweet number: 92 Can you even remember a phrase or a moment of Joe Biden? He has no personality. We need to remove Trump, how is it… https://t.co/WOQW6JnFQK Vitry-sur-Seine, France\n",
      "tweet number: 93 The Pittsburgh Post-Gazette assessment on President Trump is spot on #Election2020   https://t.co/q9euSbWTJG Edgewater, CO\n",
      "tweet number: 94 I’M NOT FOR A JOE BIDEN PRESIDENCY! THE AMERICAN PEOPLE NEED TO DUMP JOE BIDEN &amp; DONALD TRUMP ON NOVEMBER 3RD! WE S… https://t.co/DXbPQ46Ain Lowell, MA\n",
      "tweet number: 95 One can hope. https://t.co/wlYq7fPoHq #Election2020 Ogden, UT\n",
      "tweet number: 96 The odds of winning a #Halloween costume gold medal this year are getting insane.\n",
      "\n",
      "4-years-old twin sisters, Haven… https://t.co/IRSx4bdFMM Altus, OK\n",
      "tweet number: 97 US election: Most Europeans would vote for Joe Biden\n",
      "https://t.co/pkJIP3aqVu #Europe #EU #EuropeanUnion… https://t.co/cHvW70hGze Stratford, London\n",
      "tweet number: 98 @spectatorindex Joe Biden, just for the banter of seeing Donald Trump being kicked out of the White House. 🤣 \n",
      "\n",
      "#Election2020 #Debates2020 Oldham, England\n",
      "tweet number: 99 Hunter Biden FBI investigation: Trump campaign calls on Joe Biden to reveal what he knows - Washington Times… https://t.co/PdwlJ6uwBn Ossining, NY\n",
      "tweet number: 100 @SoCalEdgyGal @4jjsr I bet Trump Wins November 3 and they claim mail in ballots for PA and NC flip the outcome for… https://t.co/VCREvW2lMo Georgia, USA\n",
      "tweet number: 101 I bet Trump Wins November 3 and they claim mail in ballots for PA and NC flip the outcome for President Joe Biden.… https://t.co/Yax92GkyZQ Georgia, USA\n",
      "tweet number: 102 Hey #Trump #JoeBiden: this is correct I am not campaigning this #Election2020 . \n",
      "Joe Biden this is correct you repe… https://t.co/ghmNbddD41 Tysons Corner, VA\n",
      "tweet number: 103 Less than a week out from #ElectionDay and the campaign stops in #Florida continue! President Trump will hold a… https://t.co/N2rxIG2vZn Tampa, FL\n",
      "tweet number: 104 People of Indiana and Kentucky:\n",
      "\n",
      "You can vote for Joe Biden \n",
      "and tell people you voted for Trump. No one will ever… https://t.co/Qs4w8SGMVR New Albany, IN\n",
      "tweet number: 105 Former Vice President Joe Biden released a statement Tuesday morning in response to President Trump’s planned visit… https://t.co/RVRFGiwpLZ Lincoln, NE\n",
      "tweet number: 106 2020 election polls,  Will Donald Trump or Joe Biden win the 2020 presidential race? 🇺🇸\n",
      "@realDonaldTrump\n",
      "@JoeBiden\n",
      "#Election2020 East Midlands, England\n",
      "tweet number: 107 2020 election polls,  Will Donald Trump or Joe Biden win the 2020 presidential race? 🇺🇸\n",
      "@realDonaldTrump\n",
      "@JoeBiden\n",
      "#Election2020 East Midlands, England\n",
      "tweet number: 108 “Plausible deniability” is Jim Biden’s game plan for getting away with millions for the Biden family from China and… https://t.co/SbabCk7SMk Palm Beach, FL\n",
      "tweet number: 109 “If we give Donald Trump eight years in the White House, he will forever and fundamentally alter the character of t… https://t.co/XmUjKh3U2l Fort Lauderdale, FL\n",
      "tweet number: 110 #Election2020\n",
      "\n",
      "Melania Trump blasts Joe Biden, Democrats' 'socialist agenda' - Washington Times https://t.co/5ax9vG90n3 Georgia, USA\n",
      "tweet number: 111 Morning! On the day #AmyComeyBarrett was sworn in to the Supreme Court, it is now the final SEVEN days before Ameri… https://t.co/nYE1JentkA Camberwell, London\n",
      "tweet number: 112 Hey Ohio, there’s still time to request your absentee ballot. Do it asap! #Election2020  https://t.co/Fnz1108Lkm Columbus, OH\n",
      "tweet number: 113 More than four in ten supporters of both Donald Trump and Joe Biden said they would not accept the #Election2020 re… https://t.co/yNv5OC4URJ Gütersloh, Deutschland\n"
     ]
    }
   ],
   "source": [
    "# string to search on twitter\n",
    "query = 'Election2020,Joe Biden, Trump'\n",
    "\n",
    "# open/create a csv file to append data\n",
    "csvFile = open(query + '_data2.csv', 'w', encoding='utf-8')\n",
    "\n",
    "# use csv Writer\n",
    "csvWriter = csv.writer(csvFile)\n",
    "\n",
    "# get data from twitter\n",
    "tweet_num = 0\n",
    "for tweet in tweepy.Cursor(api.search,q=query+ ' -RT',count=10000000,lang=\"en\").items(100000):\n",
    "    if tweet.place is not None:\n",
    "        try:\n",
    "            # not entirely necessary but you can inspect what is being written to file\n",
    "            print ('tweet number: {}'.format(tweet_num), tweet.text, tweet.place.full_name)\n",
    "            # write data to csv\n",
    "            csvWriter.writerow([tweet.created_at,\n",
    "                                tweet.user.location,\n",
    "                                tweet.user.followers_count,\n",
    "                                tweet.user.friends_count,\n",
    "                                tweet.text,\n",
    "                                tweet.place.bounding_box.coordinates,\n",
    "                                tweet.place.full_name,\n",
    "                                tweet.place.country,\n",
    "                                tweet.place.country_code,\n",
    "                                tweet.place.place_type])\n",
    "            tweet_num += 1\n",
    "            \n",
    "        except Exception:\n",
    "            pass"
   ]
  },
  {
   "cell_type": "code",
   "execution_count": 67,
   "metadata": {
    "id": "WHBUsJSei1Sc"
   },
   "outputs": [],
   "source": [
    "def processTweet(tweet):\n",
    "    # Remove HTML special entities (e.g. &amp;)\n",
    "    tweet = re.sub(r'\\&\\w*;', '', tweet)\n",
    "    #Convert @username to AT_USER\n",
    "    tweet = re.sub('@[^\\s]+','',tweet)\n",
    "    # Remove tickers\n",
    "    tweet = re.sub(r'\\$\\w*', '', tweet)\n",
    "    # To lowercase\n",
    "    tweet = tweet.lower()\n",
    "    # Remove hyperlinks\n",
    "    tweet = re.sub(r'https?:\\/\\/.*\\/\\w*', '', tweet)\n",
    "    # Remove hashtags\n",
    "    tweet = re.sub(r'#\\w*', '', tweet)\n",
    "    # Remove Punctuation and split 's, 't, 've with a space for filter\n",
    "    tweet = re.sub(r'[' + punctuation.replace('@', '') + ']+', ' ', tweet)\n",
    "    # Remove words with 2 or fewer letters\n",
    "    tweet = re.sub(r'\\b\\w{1,2}\\b', '', tweet)\n",
    "    # Remove whitespace (including new line characters)\n",
    "    tweet = re.sub(r'\\s\\s+', ' ', tweet)\n",
    "    # Remove single space remaining at the front of the tweet.\n",
    "    tweet = tweet.lstrip(' ') \n",
    "    # Remove characters beyond Basic Multilingual Plane (BMP) of Unicode:\n",
    "    tweet = ''.join(c for c in tweet if c <= '\\uFFFF') \n",
    "    return tweet\n",
    "\n",
    "\n",
    "\n",
    "# # clean dataframe's text column\n",
    "# data['text'] = data['text'].apply(processTweet)\n",
    "# # preview some cleaned tweets\n",
    "# data['message'].head()"
   ]
  },
  {
   "cell_type": "code",
   "execution_count": 80,
   "metadata": {
    "colab": {
     "base_uri": "https://localhost:8080/",
     "height": 447
    },
    "id": "SN6Auf2TlCYO",
    "outputId": "2c9ed8ea-0512-4cbd-9cf8-347611281598"
   },
   "outputs": [
    {
     "data": {
      "text/html": [
       "<div>\n",
       "<style scoped>\n",
       "    .dataframe tbody tr th:only-of-type {\n",
       "        vertical-align: middle;\n",
       "    }\n",
       "\n",
       "    .dataframe tbody tr th {\n",
       "        vertical-align: top;\n",
       "    }\n",
       "\n",
       "    .dataframe thead th {\n",
       "        text-align: right;\n",
       "    }\n",
       "</style>\n",
       "<table border=\"1\" class=\"dataframe\">\n",
       "  <thead>\n",
       "    <tr style=\"text-align: right;\">\n",
       "      <th></th>\n",
       "      <th>0</th>\n",
       "      <th>1</th>\n",
       "      <th>2</th>\n",
       "      <th>3</th>\n",
       "      <th>4</th>\n",
       "      <th>5</th>\n",
       "      <th>6</th>\n",
       "      <th>7</th>\n",
       "      <th>8</th>\n",
       "      <th>9</th>\n",
       "    </tr>\n",
       "  </thead>\n",
       "  <tbody>\n",
       "    <tr>\n",
       "      <th>0</th>\n",
       "      <td>2020-11-04 18:19:08</td>\n",
       "      <td>South Carolina, USA</td>\n",
       "      <td>407</td>\n",
       "      <td>1495</td>\n",
       "      <td>Seems pretty certain. It’s almost as if they know no matter what the vote count for Donald Trump is, Joe Biden’s wi… https://t.co/JM5tADBHF7</td>\n",
       "      <td>[[[-83.353955, 32.04683], [-78.499301, 32.04683], [-78.499301, 35.215449], [-83.353955, 35.215449]]]</td>\n",
       "      <td>South Carolina, USA</td>\n",
       "      <td>United States</td>\n",
       "      <td>US</td>\n",
       "      <td>admin</td>\n",
       "    </tr>\n",
       "    <tr>\n",
       "      <th>1</th>\n",
       "      <td>2020-11-04 17:20:18</td>\n",
       "      <td>South Africa</td>\n",
       "      <td>216</td>\n",
       "      <td>616</td>\n",
       "      <td>THREAD: I’ll go on a whim here and say I THINK JOE BIDEN IS GOING TO WIN. Here are simulations below for Biden and… https://t.co/kirizS2TN1</td>\n",
       "      <td>[[[27.9483035, -25.9157727], [28.4198285, -25.9157727], [28.4198285, -25.5894376], [27.9483035, -25.5894376]]]</td>\n",
       "      <td>Pretoria, South Africa</td>\n",
       "      <td>South Africa</td>\n",
       "      <td>ZA</td>\n",
       "      <td>city</td>\n",
       "    </tr>\n",
       "    <tr>\n",
       "      <th>2</th>\n",
       "      <td>2020-11-04 16:43:47</td>\n",
       "      <td>Columbus, GA</td>\n",
       "      <td>3528</td>\n",
       "      <td>2478</td>\n",
       "      <td>UPDATE on #election2020:\\nJoe #Biden wins if he gets AZ + NV + ME + MI + WI.\\nPresident #Trump wins if he gets GA + P… https://t.co/5jXvA7T7Ee</td>\n",
       "      <td>[[[-85.605166, 30.355644], [-80.742567, 30.355644], [-80.742567, 35.000771], [-85.605166, 35.000771]]]</td>\n",
       "      <td>Georgia, USA</td>\n",
       "      <td>United States</td>\n",
       "      <td>US</td>\n",
       "      <td>admin</td>\n",
       "    </tr>\n",
       "    <tr>\n",
       "      <th>3</th>\n",
       "      <td>2020-11-04 16:15:23</td>\n",
       "      <td>Kenya</td>\n",
       "      <td>370501</td>\n",
       "      <td>572</td>\n",
       "      <td>Joe Biden is leading in Michigan and Wisconsin, which President Trump won in 2016. By early Wednesday, Biden had th… https://t.co/VGCfREMNyi</td>\n",
       "      <td>[[[36.6645733, -1.3890532], [37.0626672, -1.3890532], [37.0626672, -1.1606735], [36.6645733, -1.1606735]]]</td>\n",
       "      <td>Nairobi, Kenya</td>\n",
       "      <td>Kenya</td>\n",
       "      <td>KE</td>\n",
       "      <td>city</td>\n",
       "    </tr>\n",
       "    <tr>\n",
       "      <th>4</th>\n",
       "      <td>2020-11-04 16:05:41</td>\n",
       "      <td>Appalachia</td>\n",
       "      <td>5097</td>\n",
       "      <td>5755</td>\n",
       "      <td>Joe Biden's path to an Electoral College win widens as more votes get counted #Election2020 https://t.co/5epjcRwtRo\\nhttps://t.co/IUfaiLiS2B</td>\n",
       "      <td>[[[-82.738791, 38.40689], [-82.605961, 38.40689], [-82.605961, 38.498424], [-82.738791, 38.498424]]]</td>\n",
       "      <td>Ashland, KY</td>\n",
       "      <td>United States</td>\n",
       "      <td>US</td>\n",
       "      <td>city</td>\n",
       "    </tr>\n",
       "  </tbody>\n",
       "</table>\n",
       "</div>"
      ],
      "text/plain": [
       "                     0                    1       2  ...              7   8      9\n",
       "0  2020-11-04 18:19:08  South Carolina, USA  407     ...  United States  US  admin\n",
       "1  2020-11-04 17:20:18  South Africa         216     ...  South Africa   ZA  city \n",
       "2  2020-11-04 16:43:47  Columbus, GA         3528    ...  United States  US  admin\n",
       "3  2020-11-04 16:15:23  Kenya                370501  ...  Kenya          KE  city \n",
       "4  2020-11-04 16:05:41  Appalachia           5097    ...  United States  US  city \n",
       "\n",
       "[5 rows x 10 columns]"
      ]
     },
     "execution_count": 80,
     "metadata": {
      "tags": []
     },
     "output_type": "execute_result"
    }
   ],
   "source": [
    "data=pd.read_csv('data.csv',header=None)\n",
    "data.head()"
   ]
  },
  {
   "cell_type": "code",
   "execution_count": 81,
   "metadata": {
    "colab": {
     "base_uri": "https://localhost:8080/"
    },
    "id": "s1_n-ZdMohsq",
    "outputId": "be14d2be-c3c2-47e3-8e1a-6807c0018fb6"
   },
   "outputs": [
    {
     "data": {
      "text/plain": [
       "Int64Index([0, 1, 2, 3, 4, 5, 6, 7, 8, 9], dtype='int64')"
      ]
     },
     "execution_count": 81,
     "metadata": {
      "tags": []
     },
     "output_type": "execute_result"
    }
   ],
   "source": [
    "data.columns"
   ]
  },
  {
   "cell_type": "code",
   "execution_count": 83,
   "metadata": {
    "colab": {
     "base_uri": "https://localhost:8080/"
    },
    "id": "4fZ0hWtYqk9N",
    "outputId": "8eb3e69a-553f-4739-b1cb-7589038e7b12"
   },
   "outputs": [
    {
     "data": {
      "text/plain": [
       "(102, 10)"
      ]
     },
     "execution_count": 83,
     "metadata": {
      "tags": []
     },
     "output_type": "execute_result"
    }
   ],
   "source": [
    "data.shape"
   ]
  },
  {
   "cell_type": "code",
   "execution_count": 82,
   "metadata": {
    "colab": {
     "base_uri": "https://localhost:8080/",
     "height": 401
    },
    "id": "GHGZ09-BmPwP",
    "outputId": "6b9f4d96-8d39-47c6-a62e-e71cf5d7ccb2"
   },
   "outputs": [
    {
     "data": {
      "image/png": "[encoded data removed]",
      "text/plain": [
       "<Figure size 864x360 with 1 Axes>"
      ]
     },
     "metadata": {
      "tags": []
     },
     "output_type": "display_data"
    }
   ],
   "source": [
    "# most common words in twitter dataset\n",
    "all_words = []\n",
    "for line in list(data[4]):\n",
    "    words = line.split()\n",
    "    for word in words:\n",
    "        all_words.append(word.lower())\n",
    "\n",
    "# plot word frequency distribution of first few words\n",
    "plt.figure(figsize=(12,5))\n",
    "plt.xticks(fontsize=13, rotation=90)\n",
    "fd = nltk.FreqDist(all_words)\n",
    "fd.plot(25,cumulative=False)\n"
   ]
  },
  {
   "cell_type": "code",
   "execution_count": 86,
   "metadata": {
    "colab": {
     "base_uri": "https://localhost:8080/",
     "height": 447
    },
    "id": "uys8T-5frZco",
    "outputId": "b518bd41-32c0-4645-c854-abc88b6b4300"
   },
   "outputs": [
    {
     "data": {
      "text/html": [
       "<div>\n",
       "<style scoped>\n",
       "    .dataframe tbody tr th:only-of-type {\n",
       "        vertical-align: middle;\n",
       "    }\n",
       "\n",
       "    .dataframe tbody tr th {\n",
       "        vertical-align: top;\n",
       "    }\n",
       "\n",
       "    .dataframe thead th {\n",
       "        text-align: right;\n",
       "    }\n",
       "</style>\n",
       "<table border=\"1\" class=\"dataframe\">\n",
       "  <thead>\n",
       "    <tr style=\"text-align: right;\">\n",
       "      <th></th>\n",
       "      <th>0</th>\n",
       "      <th>1</th>\n",
       "      <th>2</th>\n",
       "      <th>3</th>\n",
       "      <th>4</th>\n",
       "      <th>5</th>\n",
       "      <th>6</th>\n",
       "      <th>7</th>\n",
       "      <th>8</th>\n",
       "      <th>9</th>\n",
       "      <th>Sentiment_Polarity</th>\n",
       "    </tr>\n",
       "  </thead>\n",
       "  <tbody>\n",
       "    <tr>\n",
       "      <th>97</th>\n",
       "      <td>2020-10-31 20:15:49</td>\n",
       "      <td>London, UK</td>\n",
       "      <td>3775</td>\n",
       "      <td>3675</td>\n",
       "      <td>US election: Most Europeans would vote for Joe Biden\\nhttps://t.co/pkJIP3aqVu #Europe #EU #EuropeanUnion… https://t.co/cHvW70hGze</td>\n",
       "      <td>[[[-0.0194808, 51.525469], [0.0694732, 51.525469], [0.0694732, 51.564174], [-0.0194808, 51.564174]]]</td>\n",
       "      <td>Stratford, London</td>\n",
       "      <td>United Kingdom</td>\n",
       "      <td>GB</td>\n",
       "      <td>city</td>\n",
       "      <td>0.5</td>\n",
       "    </tr>\n",
       "    <tr>\n",
       "      <th>98</th>\n",
       "      <td>2020-10-30 22:22:09</td>\n",
       "      <td>North West, England</td>\n",
       "      <td>2672</td>\n",
       "      <td>1837</td>\n",
       "      <td>@spectatorindex Joe Biden, just for the banter of seeing Donald Trump being kicked out of the White House. 🤣 \\n\\n#Election2020 #Debates2020</td>\n",
       "      <td>[[[-2.185708, 53.492866], [-2.048031, 53.492866], [-2.048031, 53.592865], [-2.185708, 53.592865]]]</td>\n",
       "      <td>Oldham, England</td>\n",
       "      <td>United Kingdom</td>\n",
       "      <td>GB</td>\n",
       "      <td>city</td>\n",
       "      <td>0.0</td>\n",
       "    </tr>\n",
       "    <tr>\n",
       "      <th>99</th>\n",
       "      <td>2020-10-30 00:38:04</td>\n",
       "      <td>NaN</td>\n",
       "      <td>154</td>\n",
       "      <td>305</td>\n",
       "      <td>Hunter Biden FBI investigation: Trump campaign calls on Joe Biden to reveal what he knows - Washington Times… https://t.co/PdwlJ6uwBn</td>\n",
       "      <td>[[[-73.876223, 41.136627], [-73.8135872, 41.136627], [-73.8135872, 41.199919], [-73.876223, 41.199919]]]</td>\n",
       "      <td>Ossining, NY</td>\n",
       "      <td>United States</td>\n",
       "      <td>US</td>\n",
       "      <td>city</td>\n",
       "      <td>0.0</td>\n",
       "    </tr>\n",
       "    <tr>\n",
       "      <th>100</th>\n",
       "      <td>2020-10-29 17:58:14</td>\n",
       "      <td>Augusta, GA</td>\n",
       "      <td>1333</td>\n",
       "      <td>700</td>\n",
       "      <td>@SoCalEdgyGal @4jjsr I bet Trump Wins November 3 and they claim mail in ballots for PA and NC flip the outcome for… https://t.co/VCREvW2lMo</td>\n",
       "      <td>[[[-85.605166, 30.355644], [-80.742567, 30.355644], [-80.742567, 35.000771], [-85.605166, 35.000771]]]</td>\n",
       "      <td>Georgia, USA</td>\n",
       "      <td>United States</td>\n",
       "      <td>US</td>\n",
       "      <td>admin</td>\n",
       "      <td>0.3</td>\n",
       "    </tr>\n",
       "    <tr>\n",
       "      <th>101</th>\n",
       "      <td>2020-10-29 17:57:42</td>\n",
       "      <td>Augusta, GA</td>\n",
       "      <td>1333</td>\n",
       "      <td>700</td>\n",
       "      <td>I bet Trump Wins November 3 and they claim mail in ballots for PA and NC flip the outcome for President Joe Biden.… https://t.co/Yax92GkyZQ</td>\n",
       "      <td>[[[-85.605166, 30.355644], [-80.742567, 30.355644], [-80.742567, 35.000771], [-85.605166, 35.000771]]]</td>\n",
       "      <td>Georgia, USA</td>\n",
       "      <td>United States</td>\n",
       "      <td>US</td>\n",
       "      <td>admin</td>\n",
       "      <td>0.3</td>\n",
       "    </tr>\n",
       "  </tbody>\n",
       "</table>\n",
       "</div>"
      ],
      "text/plain": [
       "                       0                    1  ...      9  Sentiment_Polarity\n",
       "97   2020-10-31 20:15:49  London, UK           ...  city   0.5               \n",
       "98   2020-10-30 22:22:09  North West, England  ...  city   0.0               \n",
       "99   2020-10-30 00:38:04  NaN                  ...  city   0.0               \n",
       "100  2020-10-29 17:58:14  Augusta, GA          ...  admin  0.3               \n",
       "101  2020-10-29 17:57:42  Augusta, GA          ...  admin  0.3               \n",
       "\n",
       "[5 rows x 11 columns]"
      ]
     },
     "execution_count": 86,
     "metadata": {
      "tags": []
     },
     "output_type": "execute_result"
    }
   ],
   "source": [
    "def find_pol(review):\n",
    "    return TextBlob(review).sentiment.polarity\n",
    "\n",
    "#Sentiment Polarity on Trump’s dataset\n",
    "\n",
    "data['Sentiment_Polarity'] = data[4].apply(find_pol)\n",
    "data.tail()"
   ]
  },
  {
   "cell_type": "code",
   "execution_count": 87,
   "metadata": {
    "colab": {
     "base_uri": "https://localhost:8080/",
     "height": 783
    },
    "id": "yKi8qL9wroJF",
    "outputId": "1eeb54a2-032f-4bc4-fc8e-e76e92eacd2c"
   },
   "outputs": [
    {
     "data": {
      "text/html": [
       "<div>\n",
       "<style scoped>\n",
       "    .dataframe tbody tr th:only-of-type {\n",
       "        vertical-align: middle;\n",
       "    }\n",
       "\n",
       "    .dataframe tbody tr th {\n",
       "        vertical-align: top;\n",
       "    }\n",
       "\n",
       "    .dataframe thead th {\n",
       "        text-align: right;\n",
       "    }\n",
       "</style>\n",
       "<table border=\"1\" class=\"dataframe\">\n",
       "  <thead>\n",
       "    <tr style=\"text-align: right;\">\n",
       "      <th></th>\n",
       "      <th>0</th>\n",
       "      <th>1</th>\n",
       "      <th>2</th>\n",
       "      <th>3</th>\n",
       "      <th>4</th>\n",
       "      <th>5</th>\n",
       "      <th>6</th>\n",
       "      <th>7</th>\n",
       "      <th>8</th>\n",
       "      <th>9</th>\n",
       "      <th>Sentiment_Polarity</th>\n",
       "      <th>Expression_Label</th>\n",
       "    </tr>\n",
       "  </thead>\n",
       "  <tbody>\n",
       "    <tr>\n",
       "      <th>97</th>\n",
       "      <td>2020-10-31 20:15:49</td>\n",
       "      <td>London, UK</td>\n",
       "      <td>3775</td>\n",
       "      <td>3675</td>\n",
       "      <td>US election: Most Europeans would vote for Joe Biden\\nhttps://t.co/pkJIP3aqVu #Europe #EU #EuropeanUnion… https://t.co/cHvW70hGze</td>\n",
       "      <td>[[[-0.0194808, 51.525469], [0.0694732, 51.525469], [0.0694732, 51.564174], [-0.0194808, 51.564174]]]</td>\n",
       "      <td>Stratford, London</td>\n",
       "      <td>United Kingdom</td>\n",
       "      <td>GB</td>\n",
       "      <td>city</td>\n",
       "      <td>0.5</td>\n",
       "      <td>positive</td>\n",
       "    </tr>\n",
       "    <tr>\n",
       "      <th>98</th>\n",
       "      <td>2020-10-30 22:22:09</td>\n",
       "      <td>North West, England</td>\n",
       "      <td>2672</td>\n",
       "      <td>1837</td>\n",
       "      <td>@spectatorindex Joe Biden, just for the banter of seeing Donald Trump being kicked out of the White House. 🤣 \\n\\n#Election2020 #Debates2020</td>\n",
       "      <td>[[[-2.185708, 53.492866], [-2.048031, 53.492866], [-2.048031, 53.592865], [-2.185708, 53.592865]]]</td>\n",
       "      <td>Oldham, England</td>\n",
       "      <td>United Kingdom</td>\n",
       "      <td>GB</td>\n",
       "      <td>city</td>\n",
       "      <td>0.0</td>\n",
       "      <td>Neutral</td>\n",
       "    </tr>\n",
       "    <tr>\n",
       "      <th>99</th>\n",
       "      <td>2020-10-30 00:38:04</td>\n",
       "      <td>NaN</td>\n",
       "      <td>154</td>\n",
       "      <td>305</td>\n",
       "      <td>Hunter Biden FBI investigation: Trump campaign calls on Joe Biden to reveal what he knows - Washington Times… https://t.co/PdwlJ6uwBn</td>\n",
       "      <td>[[[-73.876223, 41.136627], [-73.8135872, 41.136627], [-73.8135872, 41.199919], [-73.876223, 41.199919]]]</td>\n",
       "      <td>Ossining, NY</td>\n",
       "      <td>United States</td>\n",
       "      <td>US</td>\n",
       "      <td>city</td>\n",
       "      <td>0.0</td>\n",
       "      <td>Neutral</td>\n",
       "    </tr>\n",
       "    <tr>\n",
       "      <th>100</th>\n",
       "      <td>2020-10-29 17:58:14</td>\n",
       "      <td>Augusta, GA</td>\n",
       "      <td>1333</td>\n",
       "      <td>700</td>\n",
       "      <td>@SoCalEdgyGal @4jjsr I bet Trump Wins November 3 and they claim mail in ballots for PA and NC flip the outcome for… https://t.co/VCREvW2lMo</td>\n",
       "      <td>[[[-85.605166, 30.355644], [-80.742567, 30.355644], [-80.742567, 35.000771], [-85.605166, 35.000771]]]</td>\n",
       "      <td>Georgia, USA</td>\n",
       "      <td>United States</td>\n",
       "      <td>US</td>\n",
       "      <td>admin</td>\n",
       "      <td>0.3</td>\n",
       "      <td>positive</td>\n",
       "    </tr>\n",
       "    <tr>\n",
       "      <th>101</th>\n",
       "      <td>2020-10-29 17:57:42</td>\n",
       "      <td>Augusta, GA</td>\n",
       "      <td>1333</td>\n",
       "      <td>700</td>\n",
       "      <td>I bet Trump Wins November 3 and they claim mail in ballots for PA and NC flip the outcome for President Joe Biden.… https://t.co/Yax92GkyZQ</td>\n",
       "      <td>[[[-85.605166, 30.355644], [-80.742567, 30.355644], [-80.742567, 35.000771], [-85.605166, 35.000771]]]</td>\n",
       "      <td>Georgia, USA</td>\n",
       "      <td>United States</td>\n",
       "      <td>US</td>\n",
       "      <td>admin</td>\n",
       "      <td>0.3</td>\n",
       "      <td>positive</td>\n",
       "    </tr>\n",
       "  </tbody>\n",
       "</table>\n",
       "</div>"
      ],
      "text/plain": [
       "                       0  ... Expression_Label\n",
       "97   2020-10-31 20:15:49  ...  positive       \n",
       "98   2020-10-30 22:22:09  ...  Neutral        \n",
       "99   2020-10-30 00:38:04  ...  Neutral        \n",
       "100  2020-10-29 17:58:14  ...  positive       \n",
       "101  2020-10-29 17:57:42  ...  positive       \n",
       "\n",
       "[5 rows x 12 columns]"
      ]
     },
     "execution_count": 87,
     "metadata": {
      "tags": []
     },
     "output_type": "execute_result"
    }
   ],
   "source": [
    "#Add one more attribute for Expression Label\n",
    "data['Expression_Label'] = np.where(data['Sentiment_Polarity']>0,'positive', 'negative')\n",
    "data['Expression_Label'][data.Sentiment_Polarity ==0] = \"Neutral\"\n",
    "data.tail()"
   ]
  },
  {
   "cell_type": "code",
   "execution_count": 88,
   "metadata": {
    "colab": {
     "base_uri": "https://localhost:8080/",
     "height": 803
    },
    "id": "rJJxa4Htr5XK",
    "outputId": "0ec028ac-dd51-4006-e54f-9ecf28fd421f"
   },
   "outputs": [
    {
     "data": {
      "text/html": [
       "<div>\n",
       "<style scoped>\n",
       "    .dataframe tbody tr th:only-of-type {\n",
       "        vertical-align: middle;\n",
       "    }\n",
       "\n",
       "    .dataframe tbody tr th {\n",
       "        vertical-align: top;\n",
       "    }\n",
       "\n",
       "    .dataframe thead th {\n",
       "        text-align: right;\n",
       "    }\n",
       "</style>\n",
       "<table border=\"1\" class=\"dataframe\">\n",
       "  <thead>\n",
       "    <tr style=\"text-align: right;\">\n",
       "      <th></th>\n",
       "      <th>0</th>\n",
       "      <th>1</th>\n",
       "      <th>2</th>\n",
       "      <th>3</th>\n",
       "      <th>4</th>\n",
       "      <th>5</th>\n",
       "      <th>6</th>\n",
       "      <th>7</th>\n",
       "      <th>8</th>\n",
       "      <th>9</th>\n",
       "      <th>Sentiment_Polarity</th>\n",
       "      <th>Expression_Label</th>\n",
       "      <th>Expressionlabel</th>\n",
       "    </tr>\n",
       "  </thead>\n",
       "  <tbody>\n",
       "    <tr>\n",
       "      <th>0</th>\n",
       "      <td>2020-11-04 18:19:08</td>\n",
       "      <td>South Carolina, USA</td>\n",
       "      <td>407</td>\n",
       "      <td>1495</td>\n",
       "      <td>Seems pretty certain. It’s almost as if they know no matter what the vote count for Donald Trump is, Joe Biden’s wi… https://t.co/JM5tADBHF7</td>\n",
       "      <td>[[[-83.353955, 32.04683], [-78.499301, 32.04683], [-78.499301, 35.215449], [-83.353955, 35.215449]]]</td>\n",
       "      <td>South Carolina, USA</td>\n",
       "      <td>United States</td>\n",
       "      <td>US</td>\n",
       "      <td>admin</td>\n",
       "      <td>0.232143</td>\n",
       "      <td>positive</td>\n",
       "      <td>2</td>\n",
       "    </tr>\n",
       "    <tr>\n",
       "      <th>1</th>\n",
       "      <td>2020-11-04 17:20:18</td>\n",
       "      <td>South Africa</td>\n",
       "      <td>216</td>\n",
       "      <td>616</td>\n",
       "      <td>THREAD: I’ll go on a whim here and say I THINK JOE BIDEN IS GOING TO WIN. Here are simulations below for Biden and… https://t.co/kirizS2TN1</td>\n",
       "      <td>[[[27.9483035, -25.9157727], [28.4198285, -25.9157727], [28.4198285, -25.5894376], [27.9483035, -25.5894376]]]</td>\n",
       "      <td>Pretoria, South Africa</td>\n",
       "      <td>South Africa</td>\n",
       "      <td>ZA</td>\n",
       "      <td>city</td>\n",
       "      <td>0.800000</td>\n",
       "      <td>positive</td>\n",
       "      <td>2</td>\n",
       "    </tr>\n",
       "    <tr>\n",
       "      <th>2</th>\n",
       "      <td>2020-11-04 16:43:47</td>\n",
       "      <td>Columbus, GA</td>\n",
       "      <td>3528</td>\n",
       "      <td>2478</td>\n",
       "      <td>UPDATE on #election2020:\\nJoe #Biden wins if he gets AZ + NV + ME + MI + WI.\\nPresident #Trump wins if he gets GA + P… https://t.co/5jXvA7T7Ee</td>\n",
       "      <td>[[[-85.605166, 30.355644], [-80.742567, 30.355644], [-80.742567, 35.000771], [-85.605166, 35.000771]]]</td>\n",
       "      <td>Georgia, USA</td>\n",
       "      <td>United States</td>\n",
       "      <td>US</td>\n",
       "      <td>admin</td>\n",
       "      <td>0.300000</td>\n",
       "      <td>positive</td>\n",
       "      <td>2</td>\n",
       "    </tr>\n",
       "    <tr>\n",
       "      <th>3</th>\n",
       "      <td>2020-11-04 16:15:23</td>\n",
       "      <td>Kenya</td>\n",
       "      <td>370501</td>\n",
       "      <td>572</td>\n",
       "      <td>Joe Biden is leading in Michigan and Wisconsin, which President Trump won in 2016. By early Wednesday, Biden had th… https://t.co/VGCfREMNyi</td>\n",
       "      <td>[[[36.6645733, -1.3890532], [37.0626672, -1.3890532], [37.0626672, -1.1606735], [36.6645733, -1.1606735]]]</td>\n",
       "      <td>Nairobi, Kenya</td>\n",
       "      <td>Kenya</td>\n",
       "      <td>KE</td>\n",
       "      <td>city</td>\n",
       "      <td>0.100000</td>\n",
       "      <td>positive</td>\n",
       "      <td>2</td>\n",
       "    </tr>\n",
       "    <tr>\n",
       "      <th>4</th>\n",
       "      <td>2020-11-04 16:05:41</td>\n",
       "      <td>Appalachia</td>\n",
       "      <td>5097</td>\n",
       "      <td>5755</td>\n",
       "      <td>Joe Biden's path to an Electoral College win widens as more votes get counted #Election2020 https://t.co/5epjcRwtRo\\nhttps://t.co/IUfaiLiS2B</td>\n",
       "      <td>[[[-82.738791, 38.40689], [-82.605961, 38.40689], [-82.605961, 38.498424], [-82.738791, 38.498424]]]</td>\n",
       "      <td>Ashland, KY</td>\n",
       "      <td>United States</td>\n",
       "      <td>US</td>\n",
       "      <td>city</td>\n",
       "      <td>0.650000</td>\n",
       "      <td>positive</td>\n",
       "      <td>2</td>\n",
       "    </tr>\n",
       "  </tbody>\n",
       "</table>\n",
       "</div>"
      ],
      "text/plain": [
       "                     0                    1  ...  Expression_Label  Expressionlabel\n",
       "0  2020-11-04 18:19:08  South Carolina, USA  ...  positive          2              \n",
       "1  2020-11-04 17:20:18  South Africa         ...  positive          2              \n",
       "2  2020-11-04 16:43:47  Columbus, GA         ...  positive          2              \n",
       "3  2020-11-04 16:15:23  Kenya                ...  positive          2              \n",
       "4  2020-11-04 16:05:41  Appalachia           ...  positive          2              \n",
       "\n",
       "[5 rows x 13 columns]"
      ]
     },
     "execution_count": 88,
     "metadata": {
      "tags": []
     },
     "output_type": "execute_result"
    }
   ],
   "source": [
    "labelencoder = LabelEncoder()\n",
    "data['Expressionlabel'] = labelencoder.fit_transform(data['Expression_Label'])\n",
    "data.head()"
   ]
  },
  {
   "cell_type": "code",
   "execution_count": null,
   "metadata": {
    "id": "MYDyWBW-sXaQ"
   },
   "outputs": [],
   "source": []
  },
  {
   "cell_type": "code",
   "execution_count": 89,
   "metadata": {
    "id": "xBXMtObnnOZ5"
   },
   "outputs": [],
   "source": [
    "X=data.iloc[:,4].values\n",
    "X=pd.Series(X)\n",
    "y=data.iloc[:,12].values\n",
    "\n",
    "        \n",
    "X_train, X_test, y_train, y_test = train_test_split(X,y,test_size=0.20, random_state=5)\n",
    "\n",
    "X_train = [stem(preprocess(tweet)) for tweet in X_train]\n",
    "X_test = [stem(preprocess(tweet)) for tweet in X_test]"
   ]
  },
  {
   "cell_type": "code",
   "execution_count": 90,
   "metadata": {
    "id": "XA1B1_HwsWms"
   },
   "outputs": [],
   "source": [
    "vec = TfidfVectorizer(min_df=5, max_df=0.95, sublinear_tf = True,use_idf = True,ngram_range=(1, 2))\n",
    "X_train_vec = vec.fit_transform(X_train)\n",
    "nb = MultinomialNB()\n",
    "nb.fit(X_train_vec,y_train)\n",
    "X_test_vec = vec.transform(X_test)\n",
    "pred = nb.predict(X_test_vec)"
   ]
  },
  {
   "cell_type": "code",
   "execution_count": 91,
   "metadata": {
    "colab": {
     "base_uri": "https://localhost:8080/"
    },
    "id": "8MXIWWYhtB3a",
    "outputId": "8e0731b7-2c14-44da-89bf-9537df6d366f"
   },
   "outputs": [
    {
     "name": "stdout",
     "output_type": "stream",
     "text": [
      "0.6666666666666666\n"
     ]
    }
   ],
   "source": [
    "print(metrics.accuracy_score(y_test, pred))\n"
   ]
  },
  {
   "cell_type": "code",
   "execution_count": 92,
   "metadata": {
    "colab": {
     "base_uri": "https://localhost:8080/"
    },
    "id": "0AkpiC-8tG7F",
    "outputId": "88473c3e-a4db-440c-eefb-b501c4aa2f03"
   },
   "outputs": [
    {
     "data": {
      "text/plain": [
       "array(['South Carolina, USA', 'South Africa', 'Columbus, GA', 'Kenya',\n",
       "       'Appalachia', 'Birmingham', 'Mombasa, Kenya',\n",
       "       'Milton Keynes, England', 'Houston, TX', 'Viluppuram, India',\n",
       "       'Annapolis, Maryland', 'Ellisville, MO', 'NYC via SW DC',\n",
       "       'Atlanta, GA', 'Lahore Pakistan', 'Rawalpindi, Pakistan',\n",
       "       'San Diego', nan, 'Manila City, National Capital ',\n",
       "       'Bozdar House no 90C Dadu', 'Quezon City, National Capital ',\n",
       "       'Manchester + Ireland', 'Nairobi, Kenya',\n",
       "       'PG County, MD ✈️ Little Rock', 'Colorado Springs, CO',\n",
       "       'North West, England', 'Washington, DC', 'Sacramento, CA',\n",
       "       'United States', 'Los Angeles, CA', 'South Waziristan ', 'London',\n",
       "       'Greater Accra, Ghana', 'North Chicago, IL', 'Sri Lanka',\n",
       "       'Miami, FL', 'sʀɪ ʟᴀɴᴋᴀ ᴄᴏʟᴏᴍʙᴏ', 'Nashville, TN', 'Tampa, FL',\n",
       "       'Lowell, MI', 'Glasgow, UK', 'BOS, MA ➡️ DSM, IA ➡️ TPA, FL',\n",
       "       'Miami, Florida', 'currently #DC-based.', 'Sweden🇸🇪', 'Australia',\n",
       "       'Mumbai, India', 'Dallas, TX', 'Lombok, Indonesia',\n",
       "       'Hingham, MA, The Meadows', 'Randolph, VT🛫🛬Charlotte, NC',\n",
       "       'Austin, TX', 'England', 'Baltimore, MD', 'Karachi, Pakistan',\n",
       "       'Kumasi, Ghana', 'Amsterdam', 'Evans, CO', 'Pittsburgh, PA',\n",
       "       'İstanbul, Türkiye', 'North Aurora, IL', 'Lowell, Massachusetts',\n",
       "       'Warszawa Polska', 'Jacksonville, Florida', 'Bude, England, UK',\n",
       "       'Georgia, USA', 'Parigi, Francia', 'Edgewater Colorado', 'Utah',\n",
       "       'London, UK', 'Augusta, GA'], dtype=object)"
      ]
     },
     "execution_count": 92,
     "metadata": {
      "tags": []
     },
     "output_type": "execute_result"
    }
   ],
   "source": [
    "data[1].unique()"
   ]
  },
  {
   "cell_type": "code",
   "execution_count": 93,
   "metadata": {
    "colab": {
     "base_uri": "https://localhost:8080/"
    },
    "id": "IO_e9D4StZ3u",
    "outputId": "38115a6b-ef7c-4bdc-b979-f474ee281010"
   },
   "outputs": [
    {
     "data": {
      "text/plain": [
       "Washington, DC                    0.086957\n",
       "Houston, TX                       0.043478\n",
       "Lowell, MI                        0.032609\n",
       "North West, England               0.032609\n",
       "Sri Lanka                         0.021739\n",
       "Quezon City, National Capital     0.021739\n",
       "Mombasa, Kenya                    0.021739\n",
       "Bozdar House no 90C Dadu          0.021739\n",
       "Augusta, GA                       0.021739\n",
       "Glasgow, UK                       0.021739\n",
       "Name: 1, dtype: float64"
      ]
     },
     "execution_count": 93,
     "metadata": {
      "tags": []
     },
     "output_type": "execute_result"
    }
   ],
   "source": [
    "# get top countries in the dataset by percentage of tweets\n",
    "data[1].value_counts(1).head(10)"
   ]
  },
  {
   "cell_type": "code",
   "execution_count": 94,
   "metadata": {
    "colab": {
     "base_uri": "https://localhost:8080/",
     "height": 826
    },
    "id": "KGbH_G3xtnDa",
    "outputId": "36cdb701-566d-40fd-8db5-3b4a17b08be8"
   },
   "outputs": [
    {
     "data": {
      "text/plain": [
       "Text(0, 0.5, '% of Total Tweets')"
      ]
     },
     "execution_count": 94,
     "metadata": {
      "tags": []
     },
     "output_type": "execute_result"
    },
    {
     "name": "stderr",
     "output_type": "stream",
     "text": [
      "/usr/local/lib/python3.6/dist-packages/matplotlib/backends/backend_agg.py:214: RuntimeWarning:\n",
      "\n",
      "Glyph 127480 missing from current font.\n",
      "\n",
      "/usr/local/lib/python3.6/dist-packages/matplotlib/backends/backend_agg.py:214: RuntimeWarning:\n",
      "\n",
      "Glyph 127466 missing from current font.\n",
      "\n",
      "/usr/local/lib/python3.6/dist-packages/matplotlib/backends/backend_agg.py:183: RuntimeWarning:\n",
      "\n",
      "Glyph 127480 missing from current font.\n",
      "\n",
      "/usr/local/lib/python3.6/dist-packages/matplotlib/backends/backend_agg.py:183: RuntimeWarning:\n",
      "\n",
      "Glyph 127466 missing from current font.\n",
      "\n"
     ]
    },
    {
     "data": {
      "image/png": "[encoded data removed]",
      "text/plain": [
       "<Figure size 720x432 with 1 Axes>"
      ]
     },
     "metadata": {
      "tags": []
     },
     "output_type": "display_data"
    }
   ],
   "source": [
    "# plot histogram of tweets counts by country of origin\n",
    "sns.set_style(\"darkgrid\")\n",
    "x = data[1].value_counts(1).head(20)\n",
    "x.plot(kind='bar',figsize=(10,6),fontsize=13,color='steelblue')\n",
    "plt.ylabel('% of Total Tweets', fontsize=13)"
   ]
  },
  {
   "cell_type": "code",
   "execution_count": 95,
   "metadata": {
    "colab": {
     "base_uri": "https://localhost:8080/"
    },
    "id": "zXxLnlV6tyXG",
    "outputId": "7a21b91c-a053-4fa9-8cc5-06c3ff8168e8"
   },
   "outputs": [
    {
     "data": {
      "text/plain": [
       "Index([                   0,                    1,                    2,\n",
       "                          3,                    4,                    5,\n",
       "                          6,                    7,                    8,\n",
       "                          9, 'Sentiment_Polarity',   'Expression_Label',\n",
       "          'Expressionlabel',           'latitude',          'longitude'],\n",
       "      dtype='object')"
      ]
     },
     "execution_count": 95,
     "metadata": {
      "tags": []
     },
     "output_type": "execute_result"
    }
   ],
   "source": [
    "# get latitudes and longitudes\n",
    "\n",
    "def lats(x):\n",
    "    return x[1]\n",
    "\n",
    "def longs(x):\n",
    "    return x[0]\n",
    "\n",
    "# --------------------------------------------------------#\n",
    "# append longs and lats to dframe\n",
    "data['latitude'] = data[5].apply(lats)\n",
    "data['longitude'] = data[5].apply(longs)\n",
    "data.columns"
   ]
  },
  {
   "cell_type": "code",
   "execution_count": 97,
   "metadata": {
    "colab": {
     "base_uri": "https://localhost:8080/"
    },
    "id": "K00S9Mjat28-",
    "outputId": "bba131d8-77fc-47a6-fd90-ba2c34a1c6bb"
   },
   "outputs": [
    {
     "data": {
      "text/plain": [
       "['SC', 'Non_USA', 'GA', 'Non_USA', 'KY']"
      ]
     },
     "execution_count": 97,
     "metadata": {
      "tags": []
     },
     "output_type": "execute_result"
    }
   ],
   "source": [
    "# for US tweets extract state abreviations for a new STATE column\n",
    "# helper function to extract state origin of every tweet\n",
    "def get_state(x):\n",
    "    \n",
    "    states = [\"AL\", \"AK\", \"AZ\", \"AR\", \"CA\", \"CO\", \"CT\", \"DC\", \"DE\", \"FL\", \"GA\", \n",
    "              \"HI\", \"ID\", \"IL\", \"IN\", \"IA\", \"KS\", \"KY\", \"LA\", \"ME\", \"MD\", \n",
    "              \"MA\", \"MI\", \"MN\", \"MS\", \"MO\", \"MT\", \"NE\", \"NV\", \"NH\", \"NJ\", \n",
    "              \"NM\", \"NY\", \"NC\", \"ND\", \"OH\", \"OK\", \"OR\", \"PA\", \"RI\", \"SC\", \n",
    "              \"SD\", \"TN\", \"TX\", \"UT\", \"VT\", \"VA\", \"WA\", \"WV\", \"WI\", \"WY\"]\n",
    "\n",
    "    states_dict = {\n",
    "            'AK': 'Alaska','AL': 'Alabama','AR': 'Arkansas','AS': 'American Samoa',\n",
    "            'AZ': 'Arizona','CA': 'California','CO': 'Colorado','CT': 'Connecticut',\n",
    "            'DC': 'District of Columbia','DE': 'Delaware','FL': 'Florida','GA': 'Georgia',\n",
    "            'GU': 'Guam','HI': 'Hawaii','IA': 'Iowa','ID': 'Idaho','IL': 'Illinois',\n",
    "            'IN': 'Indiana','KS': 'Kansas','KY': 'Kentucky','LA': 'Louisiana',\n",
    "            'MA': 'Massachusetts','MD': 'Maryland','ME': 'Maine','MI': 'Michigan',\n",
    "            'MN': 'Minnesota','MO': 'Missouri','MP': 'Northern Mariana Islands',\n",
    "            'MS': 'Mississippi','MT': 'Montana','NA': 'National','NC': 'North Carolina',\n",
    "            'ND': 'North Dakota','NE': 'Nebraska','NH': 'New Hampshire','NJ': 'New Jersey',\n",
    "            'NM': 'New Mexico','NV': 'Nevada','NY': 'New York','OH': 'Ohio','OK': 'Oklahoma',\n",
    "            'OR': 'Oregon','PA': 'Pennsylvania','PR': 'Puerto Rico','RI': 'Rhode Island',\n",
    "            'SC': 'South Carolina','SD': 'South Dakota','TN': 'Tennessee','TX': 'Texas',\n",
    "            'UT': 'Utah','VA': 'Virginia','VI': 'Virgin Islands','VT': 'Vermont',\n",
    "            'WA': 'Washington','WI': 'Wisconsin','WV': 'West Virginia','WY': 'Wyoming'\n",
    "    }\n",
    "\n",
    "\n",
    "    abv = x.split(',')[-1].lstrip().upper()\n",
    "    state_name = x.split(',')[0].lstrip()\n",
    "    if abv in states:\n",
    "        state = abv\n",
    "    else:\n",
    "        if state_name in states_dict.values():\n",
    "            state = list(states_dict.keys())[list(states_dict.values()).index(state_name)]\n",
    "        else:\n",
    "            state = 'Non_USA'    \n",
    "    return state\n",
    "\n",
    "# ____________________________________________________________________________\n",
    "\n",
    "# create abreviated states column\n",
    "data = data.copy()\n",
    "data['states'] = data[6].apply(get_state)\n",
    "list(data['states'].head())"
   ]
  },
  {
   "cell_type": "code",
   "execution_count": 98,
   "metadata": {
    "colab": {
     "base_uri": "https://localhost:8080/",
     "height": 397
    },
    "id": "PywE192Kt3Es",
    "outputId": "c5850839-f67f-4ff2-ae36-d2ccdde58392"
   },
   "outputs": [
    {
     "data": {
      "text/plain": [
       "Text(0, 0.5, 'Origin of Tweets')"
      ]
     },
     "execution_count": 98,
     "metadata": {
      "tags": []
     },
     "output_type": "execute_result"
    },
    {
     "data": {
      "image/png": "[encoded data removed]",
      "text/plain": [
       "<Figure size 1008x432 with 1 Axes>"
      ]
     },
     "metadata": {
      "tags": []
     },
     "output_type": "display_data"
    }
   ],
   "source": [
    "# plot tweets distribution by state\n",
    "\n",
    "plt.style.use('seaborn-darkgrid')\n",
    "df_states = data[data[7]=='United States']\n",
    "df_states = df_states[df_states.states!='Non_USA']\n",
    "\n",
    "x = df_states.states.value_counts()\n",
    "x.plot(kind='bar',figsize=(14,6),fontsize=12,color='steelblue')\n",
    "plt.ylabel('Origin of Tweets', fontsize=13)"
   ]
  },
  {
   "cell_type": "code",
   "execution_count": 100,
   "metadata": {
    "colab": {
     "base_uri": "https://localhost:8080/",
     "height": 225
    },
    "id": "I3IyZvvfvs9s",
    "outputId": "1e6a9c65-0158-4481-942e-8593a4079367"
   },
   "outputs": [
    {
     "data": {
      "text/html": [
       "<div>\n",
       "<style scoped>\n",
       "    .dataframe tbody tr th:only-of-type {\n",
       "        vertical-align: middle;\n",
       "    }\n",
       "\n",
       "    .dataframe tbody tr th {\n",
       "        vertical-align: top;\n",
       "    }\n",
       "\n",
       "    .dataframe thead th {\n",
       "        text-align: right;\n",
       "    }\n",
       "</style>\n",
       "<table border=\"1\" class=\"dataframe\">\n",
       "  <thead>\n",
       "    <tr style=\"text-align: right;\">\n",
       "      <th>Expressionlabel</th>\n",
       "      <th>states</th>\n",
       "      <th>0</th>\n",
       "      <th>1</th>\n",
       "      <th>2</th>\n",
       "      <th>Expressionlabel</th>\n",
       "    </tr>\n",
       "  </thead>\n",
       "  <tbody>\n",
       "    <tr>\n",
       "      <th>15</th>\n",
       "      <td>OK</td>\n",
       "      <td>0.0</td>\n",
       "      <td>1.0</td>\n",
       "      <td>0.0</td>\n",
       "      <td>1.0</td>\n",
       "    </tr>\n",
       "    <tr>\n",
       "      <th>16</th>\n",
       "      <td>SC</td>\n",
       "      <td>0.0</td>\n",
       "      <td>0.0</td>\n",
       "      <td>1.0</td>\n",
       "      <td>0.0</td>\n",
       "    </tr>\n",
       "    <tr>\n",
       "      <th>17</th>\n",
       "      <td>TN</td>\n",
       "      <td>1.0</td>\n",
       "      <td>0.0</td>\n",
       "      <td>0.0</td>\n",
       "      <td>-1.0</td>\n",
       "    </tr>\n",
       "    <tr>\n",
       "      <th>18</th>\n",
       "      <td>TX</td>\n",
       "      <td>3.0</td>\n",
       "      <td>1.0</td>\n",
       "      <td>2.0</td>\n",
       "      <td>-2.0</td>\n",
       "    </tr>\n",
       "    <tr>\n",
       "      <th>19</th>\n",
       "      <td>UT</td>\n",
       "      <td>1.0</td>\n",
       "      <td>0.0</td>\n",
       "      <td>0.0</td>\n",
       "      <td>-1.0</td>\n",
       "    </tr>\n",
       "    <tr>\n",
       "      <th>20</th>\n",
       "      <td>VA</td>\n",
       "      <td>0.0</td>\n",
       "      <td>0.0</td>\n",
       "      <td>1.0</td>\n",
       "      <td>0.0</td>\n",
       "    </tr>\n",
       "  </tbody>\n",
       "</table>\n",
       "</div>"
      ],
      "text/plain": [
       "Expressionlabel states    0    1    2  Expressionlabel\n",
       "15               OK     0.0  1.0  0.0  1.0            \n",
       "16               SC     0.0  0.0  1.0  0.0            \n",
       "17               TN     1.0  0.0  0.0 -1.0            \n",
       "18               TX     3.0  1.0  2.0 -2.0            \n",
       "19               UT     1.0  0.0  0.0 -1.0            \n",
       "20               VA     0.0  0.0  1.0  0.0            "
      ]
     },
     "execution_count": 100,
     "metadata": {
      "tags": []
     },
     "output_type": "execute_result"
    }
   ],
   "source": [
    "# extract total sentiment per state\n",
    "df_state_sentiment = df_states.groupby(['states'])['Expressionlabel'].value_counts().unstack().fillna(0.0).reset_index()\n",
    "df_state_sentiment['Expressionlabel'] = -(df_state_sentiment[0])+df_state_sentiment[1] \n",
    "df_state_sentiment[15:24]"
   ]
  },
  {
   "cell_type": "code",
   "execution_count": 107,
   "metadata": {
    "colab": {
     "base_uri": "https://localhost:8080/",
     "height": 721
    },
    "id": "MAbgflSfv_JP",
    "outputId": "1dee2177-0b94-4d8f-81df-563f08945f53"
   },
   "outputs": [
    {
     "data": {
      "text/html": [
       "\n",
       "        <iframe\n",
       "            width=\"950\"\n",
       "            height=\"700\"\n",
       "            src=\"img_map.html\"\n",
       "            frameborder=\"0\"\n",
       "            allowfullscreen\n",
       "        ></iframe>\n",
       "        "
      ],
      "text/plain": [
       "<IPython.lib.display.IFrame at 0x7ff9d40b2f98>"
      ]
     },
     "execution_count": 107,
     "metadata": {
      "tags": []
     },
     "output_type": "execute_result"
    }
   ],
   "source": [
    "# Create the sentiment by state Heat Map \n",
    "\n",
    "colorscale=[\n",
    "            [0, 'rgb(31,120,180)'], \n",
    "            [0.35, 'rgb(166, 206, 227)'], \n",
    "            [0.75, 'rgb(251,154,153)'], \n",
    "            [1, 'rgb(227,26,28)']\n",
    "           ]\n",
    "\n",
    "data = dict(type='choropleth',\n",
    "            colorscale = colorscale,\n",
    "            reversescale=True,\n",
    "            locations = df_state_sentiment['states'],\n",
    "            z = df_state_sentiment['Expressionlabel'],\n",
    "            locationmode = 'USA-states',\n",
    "            text = df_state_sentiment['states'],\n",
    "            marker = dict(line = dict(color = 'rgb(255,255,255)',width = 2)),\n",
    "            colorbar = {'title':\"Twitter Sentiment\"}\n",
    "            )\n",
    "\n",
    "layout = dict(title = 'Twitter Sentiment: Election 2020',\n",
    "              geo = dict(scope='usa'\n",
    "                        )\n",
    "             )\n",
    "\n",
    "choromap_us = go.Figure(data = [data],layout = layout)\n",
    "\n",
    "plotly.offline.plot(choromap_us, filename='img_map.html')  # save html map\n",
    "IFrame('img_map.html', width=950, height=700)  # view saved map html file"
   ]
  },
  {
   "cell_type": "code",
   "execution_count": 111,
   "metadata": {
    "colab": {
     "base_uri": "https://localhost:8080/",
     "height": 128
    },
    "id": "M1EcTgLX5SYy",
    "outputId": "e0a17277-f3b3-42ff-e28a-114e017d83f8"
   },
   "outputs": [
    {
     "ename": "SyntaxError",
     "evalue": "ignored",
     "output_type": "error",
     "traceback": [
      "\u001b[0;36m  File \u001b[0;32m\"<ipython-input-111-61f37a56a354>\"\u001b[0;36m, line \u001b[0;32m1\u001b[0m\n\u001b[0;31m    folium.Choropleth(args*).add_to(world_map)\u001b[0m\n\u001b[0m                           ^\u001b[0m\n\u001b[0;31mSyntaxError\u001b[0m\u001b[0;31m:\u001b[0m invalid syntax\n"
     ]
    }
   ],
   "source": [
    "folium.Choropleth(args*).add_to(world_map) \n"
   ]
  },
  {
   "cell_type": "code",
   "execution_count": 124,
   "metadata": {
    "colab": {
     "base_uri": "https://localhost:8080/",
     "height": 608
    },
    "id": "Cr3qrWMq1UIn",
    "outputId": "2bff5b9d-5087-452d-b3f4-af27885b5ef9"
   },
   "outputs": [
    {
     "name": "stderr",
     "output_type": "stream",
     "text": [
      "/usr/local/lib/python3.6/dist-packages/folium/folium.py:426: FutureWarning:\n",
      "\n",
      "The choropleth  method has been deprecated. Instead use the new Choropleth class, which has the same arguments. See the example notebook 'GeoJSON_and_choropleth' for how to do this.\n",
      "\n"
     ]
    },
    {
     "data": {
      "text/html": [
       "\n",
       "        <iframe\n",
       "            width=\"960\"\n",
       "            height=\"520\"\n",
       "            src=\"twitter_us_map1.html\"\n",
       "            frameborder=\"0\"\n",
       "            allowfullscreen\n",
       "        ></iframe>\n",
       "        "
      ],
      "text/plain": [
       "<IPython.lib.display.IFrame at 0x7ff9d3ef4860>"
      ]
     },
     "execution_count": 124,
     "metadata": {
      "tags": []
     },
     "output_type": "execute_result"
    }
   ],
   "source": [
    "# using the folium library to create all tweet origins in the dataset on map of US\n",
    "\n",
    "geoplots = []\n",
    "for index, row in df_states[['latitude','longitude','Expressionlabel']].iterrows():\n",
    "    geoplots.append([row['latitude'],row['longitude'],row['Expressionlabel']])\n",
    "\n",
    "mus = folium.Map(location=[39, -99], zoom_start=4)\n",
    "plugins.Fullscreen(\n",
    "    position='topright',\n",
    "    title='Expand me',\n",
    "    title_cancel='Exit me',\n",
    "    force_separate_button=True).add_to(mus)\n",
    "\n",
    "mus.choropleth(\n",
    "    geo_data='USA.geo.json',\n",
    "    fill_color='red', \n",
    "    fill_opacity=0.1, \n",
    "    line_opacity=0.2,\n",
    "    legend_name='US States')\n",
    "    \n",
    "# mus.add_child(plugins.HeatMap(geoplots,\n",
    "#                             name='Twitter HeatMap',\n",
    "#                             radius=10,\n",
    "#                             max_zoom=1,\n",
    "#                             blur=10, \n",
    "#                             max_val=3.0))\n",
    "folium.TileLayer('cartodbpositron').add_to(mus)\n",
    "folium.TileLayer('cartodbdark_matter').add_to(mus)\n",
    "folium.TileLayer('Mapbox Control Room').add_to(mus)\n",
    "folium.LayerControl().add_to(mus)\n",
    "mus.save(\"twitter_us_map1.html\") \n",
    "IFrame('twitter_us_map1.html', width=960, height=520)"
   ]
  },
  {
   "cell_type": "code",
   "execution_count": null,
   "metadata": {
    "id": "L-tWmgNO1zJG"
   },
   "outputs": [],
   "source": []
  }
 ],
 "metadata": {
  "colab": {
   "name": "Untitled7.ipynb",
   "provenance": []
  },
  "kernelspec": {
   "display_name": "Python 3",
   "language": "python",
   "name": "python3"
  },
  "language_info": {
   "codemirror_mode": {
    "name": "ipython",
    "version": 3
   },
   "file_extension": ".py",
   "mimetype": "text/x-python",
   "name": "python",
   "nbconvert_exporter": "python",
   "pygments_lexer": "ipython3",
   "version": "3.6.5"
  }
 },
 "nbformat": 4,
 "nbformat_minor": 1
}
