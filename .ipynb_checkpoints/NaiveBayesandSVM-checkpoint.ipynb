{
 "cells": [
  {
   "cell_type": "code",
   "execution_count": 17,
   "metadata": {
    "colab": {
     "base_uri": "https://localhost:8080/",
     "height": 195
    },
    "id": "VqjQSTfSc24f",
    "outputId": "e2d75165-bf25-425e-c4e7-c84acd48719f"
   },
   "outputs": [
    {
     "data": {
      "text/html": [
       "<div>\n",
       "<style scoped>\n",
       "    .dataframe tbody tr th:only-of-type {\n",
       "        vertical-align: middle;\n",
       "    }\n",
       "\n",
       "    .dataframe tbody tr th {\n",
       "        vertical-align: top;\n",
       "    }\n",
       "\n",
       "    .dataframe thead th {\n",
       "        text-align: right;\n",
       "    }\n",
       "</style>\n",
       "<table border=\"1\" class=\"dataframe\">\n",
       "  <thead>\n",
       "    <tr style=\"text-align: right;\">\n",
       "      <th></th>\n",
       "      <th>author</th>\n",
       "      <th>date</th>\n",
       "      <th>text</th>\n",
       "    </tr>\n",
       "  </thead>\n",
       "  <tbody>\n",
       "    <tr>\n",
       "      <th>0</th>\n",
       "      <td>R0nnieBergman</td>\n",
       "      <td>2020-10-31 09:24:34</td>\n",
       "      <td>RT @standardnews: I created The Thick of It an...</td>\n",
       "    </tr>\n",
       "    <tr>\n",
       "      <th>1</th>\n",
       "      <td>Godhelpusameric</td>\n",
       "      <td>2020-10-31 09:24:34</td>\n",
       "      <td>RT @realDonaldTrump: “A Biden win would mean t...</td>\n",
       "    </tr>\n",
       "    <tr>\n",
       "      <th>2</th>\n",
       "      <td>Zehub</td>\n",
       "      <td>2020-10-31 09:24:34</td>\n",
       "      <td>VIDEO. Election présidentielle aux États-Unis ...</td>\n",
       "    </tr>\n",
       "    <tr>\n",
       "      <th>3</th>\n",
       "      <td>JamieParrigin</td>\n",
       "      <td>2020-10-31 09:24:34</td>\n",
       "      <td>RT @realDonaldTrump: President Obama used to s...</td>\n",
       "    </tr>\n",
       "    <tr>\n",
       "      <th>4</th>\n",
       "      <td>Powerfader54</td>\n",
       "      <td>2020-10-31 09:24:34</td>\n",
       "      <td>Tucker Carlson: Hunter Biden scandal shows med...</td>\n",
       "    </tr>\n",
       "  </tbody>\n",
       "</table>\n",
       "</div>"
      ],
      "text/plain": [
       "            author  ...                                               text\n",
       "0    R0nnieBergman  ...  RT @standardnews: I created The Thick of It an...\n",
       "1  Godhelpusameric  ...  RT @realDonaldTrump: “A Biden win would mean t...\n",
       "2            Zehub  ...  VIDEO. Election présidentielle aux États-Unis ...\n",
       "3    JamieParrigin  ...  RT @realDonaldTrump: President Obama used to s...\n",
       "4     Powerfader54  ...  Tucker Carlson: Hunter Biden scandal shows med...\n",
       "\n",
       "[5 rows x 3 columns]"
      ]
     },
     "execution_count": 17,
     "metadata": {
      "tags": []
     },
     "output_type": "execute_result"
    }
   ],
   "source": [
    "from textblob import TextBlob\n",
    "import nltk\n",
    "import re\n",
    "import pandas as pd\n",
    "import numpy as np\n",
    "from sklearn.model_selection import train_test_split\n",
    "from sklearn.feature_extraction.text import TfidfVectorizer\n",
    "from sklearn.naive_bayes import MultinomialNB\n",
    "from sklearn import metrics\n",
    "import pylab as pl\n",
    "\n",
    "\n",
    "dataset= pd.read_csv(\"TrumpvsBiden.csv\")\n",
    "dataset.head()"
   ]
  },
  {
   "cell_type": "code",
   "execution_count": 18,
   "metadata": {
    "colab": {
     "base_uri": "https://localhost:8080/",
     "height": 195
    },
    "id": "dpZFIXv_fmWE",
    "outputId": "9303bc22-8ded-49d5-e7ef-3541f889063f"
   },
   "outputs": [
    {
     "data": {
      "text/html": [
       "<div>\n",
       "<style scoped>\n",
       "    .dataframe tbody tr th:only-of-type {\n",
       "        vertical-align: middle;\n",
       "    }\n",
       "\n",
       "    .dataframe tbody tr th {\n",
       "        vertical-align: top;\n",
       "    }\n",
       "\n",
       "    .dataframe thead th {\n",
       "        text-align: right;\n",
       "    }\n",
       "</style>\n",
       "<table border=\"1\" class=\"dataframe\">\n",
       "  <thead>\n",
       "    <tr style=\"text-align: right;\">\n",
       "      <th></th>\n",
       "      <th>author</th>\n",
       "      <th>date</th>\n",
       "      <th>text</th>\n",
       "      <th>Sentiment_Polarity</th>\n",
       "    </tr>\n",
       "  </thead>\n",
       "  <tbody>\n",
       "    <tr>\n",
       "      <th>4249</th>\n",
       "      <td>cccelsr</td>\n",
       "      <td>2020-10-31 09:27:03</td>\n",
       "      <td>RT @themarketswork: Whom among us hasn't rando...</td>\n",
       "      <td>-0.166667</td>\n",
       "    </tr>\n",
       "    <tr>\n",
       "      <th>4250</th>\n",
       "      <td>UnEspanolVOX</td>\n",
       "      <td>2020-10-31 09:27:03</td>\n",
       "      <td>RT @alonso_dm: La ultraderecha cada día más ec...</td>\n",
       "      <td>0.000000</td>\n",
       "    </tr>\n",
       "    <tr>\n",
       "      <th>4251</th>\n",
       "      <td>hub53848550</td>\n",
       "      <td>2020-10-31 09:27:03</td>\n",
       "      <td>RT @EricTrump: TeamTrump is just getting warme...</td>\n",
       "      <td>0.000000</td>\n",
       "    </tr>\n",
       "    <tr>\n",
       "      <th>4252</th>\n",
       "      <td>coop22089074</td>\n",
       "      <td>2020-10-31 09:27:03</td>\n",
       "      <td>Biden Vows to Hold China Accountable amid Scru...</td>\n",
       "      <td>0.000000</td>\n",
       "    </tr>\n",
       "    <tr>\n",
       "      <th>4253</th>\n",
       "      <td>zeusFanHouse</td>\n",
       "      <td>2020-10-31 09:27:03</td>\n",
       "      <td>RT @MagaGlam: @realDonaldTrump We ❤️ You Presi...</td>\n",
       "      <td>0.000000</td>\n",
       "    </tr>\n",
       "  </tbody>\n",
       "</table>\n",
       "</div>"
      ],
      "text/plain": [
       "            author  ... Sentiment_Polarity\n",
       "4249       cccelsr  ...          -0.166667\n",
       "4250  UnEspanolVOX  ...           0.000000\n",
       "4251   hub53848550  ...           0.000000\n",
       "4252  coop22089074  ...           0.000000\n",
       "4253  zeusFanHouse  ...           0.000000\n",
       "\n",
       "[5 rows x 4 columns]"
      ]
     },
     "execution_count": 18,
     "metadata": {
      "tags": []
     },
     "output_type": "execute_result"
    }
   ],
   "source": [
    "def find_pol(review):\n",
    "    return TextBlob(review).sentiment.polarity\n",
    "\n",
    "#Sentiment Polarity on Trump’s dataset\n",
    "\n",
    "dataset['Sentiment_Polarity'] = dataset['text'].apply(find_pol)\n",
    "dataset.tail()"
   ]
  },
  {
   "cell_type": "code",
   "execution_count": 19,
   "metadata": {
    "colab": {
     "base_uri": "https://localhost:8080/",
     "height": 279
    },
    "id": "C24mVJPnigtO",
    "outputId": "a0b6bd95-d83d-43c4-cdf4-1457a4fddb71"
   },
   "outputs": [
    {
     "name": "stderr",
     "output_type": "stream",
     "text": [
      "/usr/local/lib/python3.6/dist-packages/ipykernel_launcher.py:3: SettingWithCopyWarning: \n",
      "A value is trying to be set on a copy of a slice from a DataFrame\n",
      "\n",
      "See the caveats in the documentation: https://pandas.pydata.org/pandas-docs/stable/user_guide/indexing.html#returning-a-view-versus-a-copy\n",
      "  This is separate from the ipykernel package so we can avoid doing imports until\n"
     ]
    },
    {
     "data": {
      "text/html": [
       "<div>\n",
       "<style scoped>\n",
       "    .dataframe tbody tr th:only-of-type {\n",
       "        vertical-align: middle;\n",
       "    }\n",
       "\n",
       "    .dataframe tbody tr th {\n",
       "        vertical-align: top;\n",
       "    }\n",
       "\n",
       "    .dataframe thead th {\n",
       "        text-align: right;\n",
       "    }\n",
       "</style>\n",
       "<table border=\"1\" class=\"dataframe\">\n",
       "  <thead>\n",
       "    <tr style=\"text-align: right;\">\n",
       "      <th></th>\n",
       "      <th>author</th>\n",
       "      <th>date</th>\n",
       "      <th>text</th>\n",
       "      <th>Sentiment_Polarity</th>\n",
       "      <th>Expression Label</th>\n",
       "    </tr>\n",
       "  </thead>\n",
       "  <tbody>\n",
       "    <tr>\n",
       "      <th>4249</th>\n",
       "      <td>cccelsr</td>\n",
       "      <td>2020-10-31 09:27:03</td>\n",
       "      <td>RT @themarketswork: Whom among us hasn't rando...</td>\n",
       "      <td>-0.166667</td>\n",
       "      <td>negative</td>\n",
       "    </tr>\n",
       "    <tr>\n",
       "      <th>4250</th>\n",
       "      <td>UnEspanolVOX</td>\n",
       "      <td>2020-10-31 09:27:03</td>\n",
       "      <td>RT @alonso_dm: La ultraderecha cada día más ec...</td>\n",
       "      <td>0.000000</td>\n",
       "      <td>Neutral</td>\n",
       "    </tr>\n",
       "    <tr>\n",
       "      <th>4251</th>\n",
       "      <td>hub53848550</td>\n",
       "      <td>2020-10-31 09:27:03</td>\n",
       "      <td>RT @EricTrump: TeamTrump is just getting warme...</td>\n",
       "      <td>0.000000</td>\n",
       "      <td>Neutral</td>\n",
       "    </tr>\n",
       "    <tr>\n",
       "      <th>4252</th>\n",
       "      <td>coop22089074</td>\n",
       "      <td>2020-10-31 09:27:03</td>\n",
       "      <td>Biden Vows to Hold China Accountable amid Scru...</td>\n",
       "      <td>0.000000</td>\n",
       "      <td>Neutral</td>\n",
       "    </tr>\n",
       "    <tr>\n",
       "      <th>4253</th>\n",
       "      <td>zeusFanHouse</td>\n",
       "      <td>2020-10-31 09:27:03</td>\n",
       "      <td>RT @MagaGlam: @realDonaldTrump We ❤️ You Presi...</td>\n",
       "      <td>0.000000</td>\n",
       "      <td>Neutral</td>\n",
       "    </tr>\n",
       "  </tbody>\n",
       "</table>\n",
       "</div>"
      ],
      "text/plain": [
       "            author                 date  ... Sentiment_Polarity  Expression Label\n",
       "4249       cccelsr  2020-10-31 09:27:03  ...          -0.166667          negative\n",
       "4250  UnEspanolVOX  2020-10-31 09:27:03  ...           0.000000           Neutral\n",
       "4251   hub53848550  2020-10-31 09:27:03  ...           0.000000           Neutral\n",
       "4252  coop22089074  2020-10-31 09:27:03  ...           0.000000           Neutral\n",
       "4253  zeusFanHouse  2020-10-31 09:27:03  ...           0.000000           Neutral\n",
       "\n",
       "[5 rows x 5 columns]"
      ]
     },
     "execution_count": 19,
     "metadata": {
      "tags": []
     },
     "output_type": "execute_result"
    }
   ],
   "source": [
    "#Add one more attribute for Expression Label\n",
    "dataset['Expression Label'] = np.where(dataset['Sentiment_Polarity']>0,'positive', 'negative')\n",
    "dataset['Expression Label'][dataset.Sentiment_Polarity ==0] = \"Neutral\"\n",
    "dataset.tail()"
   ]
  },
  {
   "cell_type": "code",
   "execution_count": 20,
   "metadata": {
    "colab": {
     "base_uri": "https://localhost:8080/"
    },
    "id": "wM3YgJAsig3s",
    "outputId": "ff0c3648-7d01-46ad-c3c8-d07ddc0bc1ca"
   },
   "outputs": [
    {
     "data": {
      "text/plain": [
       "(1991, 5)"
      ]
     },
     "execution_count": 20,
     "metadata": {
      "tags": []
     },
     "output_type": "execute_result"
    }
   ],
   "source": [
    "\n",
    "reviews1 = dataset[dataset['Sentiment_Polarity'] == 0.0000]\n",
    "reviews1.shape"
   ]
  },
  {
   "cell_type": "code",
   "execution_count": 21,
   "metadata": {
    "colab": {
     "base_uri": "https://localhost:8080/"
    },
    "id": "MkMPwwWW5epl",
    "outputId": "c6df5ec5-415b-42ba-d9fb-40d33d5191f7"
   },
   "outputs": [
    {
     "data": {
      "text/plain": [
       "(2263, 5)"
      ]
     },
     "execution_count": 21,
     "metadata": {
      "tags": []
     },
     "output_type": "execute_result"
    }
   ],
   "source": [
    "cond1=dataset['Sentiment_Polarity'].isin(reviews1['Sentiment_Polarity'])\n",
    "dataset.drop(dataset[cond1].index, inplace = True)\n",
    "dataset.shape"
   ]
  },
  {
   "cell_type": "code",
   "execution_count": 22,
   "metadata": {
    "colab": {
     "base_uri": "https://localhost:8080/",
     "height": 195
    },
    "id": "nmfb4GGm6a_u",
    "outputId": "d0d8bef6-fe0a-436e-b59e-ef95a91ceaf6"
   },
   "outputs": [
    {
     "data": {
      "text/html": [
       "<div>\n",
       "<style scoped>\n",
       "    .dataframe tbody tr th:only-of-type {\n",
       "        vertical-align: middle;\n",
       "    }\n",
       "\n",
       "    .dataframe tbody tr th {\n",
       "        vertical-align: top;\n",
       "    }\n",
       "\n",
       "    .dataframe thead th {\n",
       "        text-align: right;\n",
       "    }\n",
       "</style>\n",
       "<table border=\"1\" class=\"dataframe\">\n",
       "  <thead>\n",
       "    <tr style=\"text-align: right;\">\n",
       "      <th></th>\n",
       "      <th>author</th>\n",
       "      <th>date</th>\n",
       "      <th>text</th>\n",
       "      <th>Sentiment_Polarity</th>\n",
       "      <th>Expression Label</th>\n",
       "    </tr>\n",
       "  </thead>\n",
       "  <tbody>\n",
       "    <tr>\n",
       "      <th>0</th>\n",
       "      <td>R0nnieBergman</td>\n",
       "      <td>2020-10-31 09:24:34</td>\n",
       "      <td>RT @standardnews: I created The Thick of It an...</td>\n",
       "      <td>-0.30000</td>\n",
       "      <td>negative</td>\n",
       "    </tr>\n",
       "    <tr>\n",
       "      <th>1</th>\n",
       "      <td>Godhelpusameric</td>\n",
       "      <td>2020-10-31 09:24:34</td>\n",
       "      <td>RT @realDonaldTrump: “A Biden win would mean t...</td>\n",
       "      <td>0.24375</td>\n",
       "      <td>positive</td>\n",
       "    </tr>\n",
       "    <tr>\n",
       "      <th>3</th>\n",
       "      <td>JamieParrigin</td>\n",
       "      <td>2020-10-31 09:24:34</td>\n",
       "      <td>RT @realDonaldTrump: President Obama used to s...</td>\n",
       "      <td>0.20000</td>\n",
       "      <td>positive</td>\n",
       "    </tr>\n",
       "    <tr>\n",
       "      <th>4</th>\n",
       "      <td>Powerfader54</td>\n",
       "      <td>2020-10-31 09:24:34</td>\n",
       "      <td>Tucker Carlson: Hunter Biden scandal shows med...</td>\n",
       "      <td>0.25000</td>\n",
       "      <td>positive</td>\n",
       "    </tr>\n",
       "    <tr>\n",
       "      <th>5</th>\n",
       "      <td>America_Mine</td>\n",
       "      <td>2020-10-31 09:24:34</td>\n",
       "      <td>RT @mabomm1: The Russian hoax President Trump’...</td>\n",
       "      <td>-0.25000</td>\n",
       "      <td>negative</td>\n",
       "    </tr>\n",
       "  </tbody>\n",
       "</table>\n",
       "</div>"
      ],
      "text/plain": [
       "            author                 date  ... Sentiment_Polarity  Expression Label\n",
       "0    R0nnieBergman  2020-10-31 09:24:34  ...           -0.30000          negative\n",
       "1  Godhelpusameric  2020-10-31 09:24:34  ...            0.24375          positive\n",
       "3    JamieParrigin  2020-10-31 09:24:34  ...            0.20000          positive\n",
       "4     Powerfader54  2020-10-31 09:24:34  ...            0.25000          positive\n",
       "5     America_Mine  2020-10-31 09:24:34  ...           -0.25000          negative\n",
       "\n",
       "[5 rows x 5 columns]"
      ]
     },
     "execution_count": 22,
     "metadata": {
      "tags": []
     },
     "output_type": "execute_result"
    }
   ],
   "source": [
    "dataset.head()"
   ]
  },
  {
   "cell_type": "code",
   "execution_count": 25,
   "metadata": {
    "colab": {
     "base_uri": "https://localhost:8080/",
     "height": 195
    },
    "id": "kzEYgyxK6ilp",
    "outputId": "322eb4cc-ed28-4ff3-d3f0-704242522614"
   },
   "outputs": [
    {
     "data": {
      "text/html": [
       "<div>\n",
       "<style scoped>\n",
       "    .dataframe tbody tr th:only-of-type {\n",
       "        vertical-align: middle;\n",
       "    }\n",
       "\n",
       "    .dataframe tbody tr th {\n",
       "        vertical-align: top;\n",
       "    }\n",
       "\n",
       "    .dataframe thead th {\n",
       "        text-align: right;\n",
       "    }\n",
       "</style>\n",
       "<table border=\"1\" class=\"dataframe\">\n",
       "  <thead>\n",
       "    <tr style=\"text-align: right;\">\n",
       "      <th></th>\n",
       "      <th>author</th>\n",
       "      <th>date</th>\n",
       "      <th>text</th>\n",
       "      <th>Sentiment_Polarity</th>\n",
       "      <th>Expression Label</th>\n",
       "      <th>Expression label</th>\n",
       "    </tr>\n",
       "  </thead>\n",
       "  <tbody>\n",
       "    <tr>\n",
       "      <th>0</th>\n",
       "      <td>R0nnieBergman</td>\n",
       "      <td>2020-10-31 09:24:34</td>\n",
       "      <td>RT @standardnews: I created The Thick of It an...</td>\n",
       "      <td>-0.30000</td>\n",
       "      <td>negative</td>\n",
       "      <td>0</td>\n",
       "    </tr>\n",
       "    <tr>\n",
       "      <th>1</th>\n",
       "      <td>Godhelpusameric</td>\n",
       "      <td>2020-10-31 09:24:34</td>\n",
       "      <td>RT @realDonaldTrump: “A Biden win would mean t...</td>\n",
       "      <td>0.24375</td>\n",
       "      <td>positive</td>\n",
       "      <td>1</td>\n",
       "    </tr>\n",
       "    <tr>\n",
       "      <th>3</th>\n",
       "      <td>JamieParrigin</td>\n",
       "      <td>2020-10-31 09:24:34</td>\n",
       "      <td>RT @realDonaldTrump: President Obama used to s...</td>\n",
       "      <td>0.20000</td>\n",
       "      <td>positive</td>\n",
       "      <td>1</td>\n",
       "    </tr>\n",
       "    <tr>\n",
       "      <th>4</th>\n",
       "      <td>Powerfader54</td>\n",
       "      <td>2020-10-31 09:24:34</td>\n",
       "      <td>Tucker Carlson: Hunter Biden scandal shows med...</td>\n",
       "      <td>0.25000</td>\n",
       "      <td>positive</td>\n",
       "      <td>1</td>\n",
       "    </tr>\n",
       "    <tr>\n",
       "      <th>5</th>\n",
       "      <td>America_Mine</td>\n",
       "      <td>2020-10-31 09:24:34</td>\n",
       "      <td>RT @mabomm1: The Russian hoax President Trump’...</td>\n",
       "      <td>-0.25000</td>\n",
       "      <td>negative</td>\n",
       "      <td>0</td>\n",
       "    </tr>\n",
       "  </tbody>\n",
       "</table>\n",
       "</div>"
      ],
      "text/plain": [
       "            author                 date  ... Expression Label  Expression label\n",
       "0    R0nnieBergman  2020-10-31 09:24:34  ...         negative                 0\n",
       "1  Godhelpusameric  2020-10-31 09:24:34  ...         positive                 1\n",
       "3    JamieParrigin  2020-10-31 09:24:34  ...         positive                 1\n",
       "4     Powerfader54  2020-10-31 09:24:34  ...         positive                 1\n",
       "5     America_Mine  2020-10-31 09:24:34  ...         negative                 0\n",
       "\n",
       "[5 rows x 6 columns]"
      ]
     },
     "execution_count": 25,
     "metadata": {
      "tags": []
     },
     "output_type": "execute_result"
    }
   ],
   "source": [
    "from sklearn.preprocessing import LabelEncoder\n",
    "\n",
    "labelencoder = LabelEncoder()\n",
    "dataset['Expression label'] = labelencoder.fit_transform(dataset['Expression Label'])\n",
    "dataset.head()"
   ]
  },
  {
   "cell_type": "code",
   "execution_count": 46,
   "metadata": {
    "id": "6g5hWbzofpV7"
   },
   "outputs": [],
   "source": [
    "\n",
    "\n",
    "def preprocess(tweet):\n",
    "    \n",
    "    #Convert www.* or https?://* to URL\n",
    "    tweet = re.sub('((www\\.[^\\s]+)|(https?://[^\\s]+))','URL',tweet)\n",
    "    \n",
    "    #Convert @username to __USERHANDLE\n",
    "    tweet = re.sub('@[^\\s]+','__USERHANDLE',tweet)  \n",
    "    \n",
    "    #Replace #word with word\n",
    "    tweet = re.sub(r'#([^\\s]+)', r'\\1', tweet)\n",
    "    \n",
    "    #trim\n",
    "    tweet = tweet.strip('\\'\"')\n",
    "    \n",
    "    # Repeating words like hellloooo\n",
    "    repeat_char = re.compile(r\"(.)\\1{1,}\", re.IGNORECASE)\n",
    "    tweet = repeat_char.sub(r\"\\1\\1\", tweet)\n",
    "    \n",
    "    #Emoticons\n",
    "    emoticons = \\\n",
    "    [\n",
    "     ('__positive__',[ ':-)', ':)', '(:', '(-:', \\\n",
    "                       ':-D', ':D', 'X-D', 'XD', 'xD', \\\n",
    "                       '<3', ':\\*', ';-)', ';)', ';-D', ';D', '(;', '(-;', ] ),\\\n",
    "     ('__negative__', [':-(', ':(', '(:', '(-:', ':,(',\\\n",
    "                       ':\\'(', ':\"(', ':((','D:' ] ),\\\n",
    "    ]\n",
    "\n",
    "    def replace_parenthesis(arr):\n",
    "       return [text.replace(')', '[)}\\]]').replace('(', '[({\\[]') for text in arr]\n",
    "    \n",
    "    def join_parenthesis(arr):\n",
    "        return '(' + '|'.join( arr ) + ')'\n",
    "\n",
    "    emoticons_regex = [ (repl, re.compile(join_parenthesis(replace_parenthesis(regx))) ) \\\n",
    "            for (repl, regx) in emoticons ]\n",
    "    \n",
    "    for (repl, regx) in emoticons_regex :\n",
    "        tweet = re.sub(regx, ' '+repl+' ', tweet)\n",
    "\n",
    "     #Convert to lower case\n",
    "    tweet = tweet.lower()\n",
    "    \n",
    "    return tweet\n",
    "\n",
    "\n",
    "\n",
    "\n",
    "#Stemming of Tweets\n",
    "\n",
    "def stem(tweet):\n",
    "        stemmer = nltk.stem.PorterStemmer()\n",
    "        tweet_stem = ''\n",
    "        words = [word if(word[0:2]=='__') else word.lower() \\\n",
    "                    for word in tweet.split() \\\n",
    "                    if len(word) >= 3]\n",
    "        words = [stemmer.stem(w) for w in words] \n",
    "        tweet_stem = ' '.join(words)\n",
    "        return tweet_stem\n",
    "\n",
    "\n",
    "\n",
    "\n",
    "\n",
    "\n"
   ]
  },
  {
   "cell_type": "markdown",
   "metadata": {
    "id": "dHZJppKfomDF"
   },
   "source": [
    "**NAIVE BAYES METHOD**"
   ]
  },
  {
   "cell_type": "code",
   "execution_count": 47,
   "metadata": {
    "id": "IyrPTxpQKvbz"
   },
   "outputs": [],
   "source": [
    "X=dataset.iloc[:,2].values\n",
    "X=pd.Series(X)\n",
    "y=dataset.iloc[:,5].values\n",
    "\n",
    "        \n",
    "X_train, X_test, y_train, y_test = train_test_split(X,y,test_size=0.20, random_state=5)\n",
    "\n",
    "X_train = [stem(preprocess(tweet)) for tweet in X_train]\n",
    "X_test = [stem(preprocess(tweet)) for tweet in X_test]"
   ]
  },
  {
   "cell_type": "code",
   "execution_count": 48,
   "metadata": {
    "id": "n-52o-dRKvrt"
   },
   "outputs": [],
   "source": [
    "vec = TfidfVectorizer(min_df=5, max_df=0.95, sublinear_tf = True,use_idf = True,ngram_range=(1, 2))\n",
    "X_train_vec = vec.fit_transform(X_train)\n",
    "nb = MultinomialNB()\n",
    "nb.fit(X_train_vec,y_train)\n",
    "X_test_vec = vec.transform(X_test)\n",
    "pred = nb.predict(X_test_vec)"
   ]
  },
  {
   "cell_type": "code",
   "execution_count": 49,
   "metadata": {
    "colab": {
     "base_uri": "https://localhost:8080/"
    },
    "id": "HkCKv8eOJWI5",
    "outputId": "d25caace-0e9e-4c4f-b070-9923ce2d550a"
   },
   "outputs": [
    {
     "name": "stdout",
     "output_type": "stream",
     "text": [
      "0.8278145695364238\n"
     ]
    }
   ],
   "source": [
    "print(metrics.accuracy_score(y_test, pred))\n"
   ]
  },
  {
   "cell_type": "code",
   "execution_count": 50,
   "metadata": {
    "colab": {
     "base_uri": "https://localhost:8080/"
    },
    "id": "dQ9A4FZUh1zu",
    "outputId": "d6ab514f-6921-4bde-d653-09d9065bd441"
   },
   "outputs": [
    {
     "name": "stdout",
     "output_type": "stream",
     "text": [
      "[[101  68]\n",
      " [ 10 274]]\n"
     ]
    }
   ],
   "source": [
    "print(metrics.confusion_matrix(y_test, pred))"
   ]
  },
  {
   "cell_type": "code",
   "execution_count": 50,
   "metadata": {
    "id": "ULjWcYMhJ1Dz"
   },
   "outputs": [],
   "source": [
    "\n"
   ]
  },
  {
   "cell_type": "code",
   "execution_count": 51,
   "metadata": {
    "colab": {
     "base_uri": "https://localhost:8080/",
     "height": 254
    },
    "id": "hWM0Jxm2HUgR",
    "outputId": "7e685156-960e-4ac7-a521-c6ace82490ab"
   },
   "outputs": [
    {
     "data": {
      "image/png": "[encoded data removed]",
      "text/plain": [
       "<Figure size 288x288 with 2 Axes>"
      ]
     },
     "metadata": {
      "needs_background": "light",
      "tags": []
     },
     "output_type": "display_data"
    }
   ],
   "source": [
    "cm = metrics.confusion_matrix(y_test, pred)\n",
    "pl.matshow(cm)\n",
    "#pl.title('Confusion matrix of the classifier')\n",
    "pl.colorbar()\n",
    "pl.show()\n",
    "\n"
   ]
  },
  {
   "cell_type": "code",
   "execution_count": 52,
   "metadata": {
    "colab": {
     "base_uri": "https://localhost:8080/"
    },
    "id": "ExoVLw4RHZXF",
    "outputId": "fd581c6a-666b-4547-d6ec-87d6c6bbadf7"
   },
   "outputs": [
    {
     "name": "stdout",
     "output_type": "stream",
     "text": [
      "              precision    recall  f1-score   support\n",
      "\n",
      "           0       0.91      0.60      0.72       169\n",
      "           1       0.80      0.96      0.88       284\n",
      "\n",
      "    accuracy                           0.83       453\n",
      "   macro avg       0.86      0.78      0.80       453\n",
      "weighted avg       0.84      0.83      0.82       453\n",
      "\n"
     ]
    }
   ],
   "source": [
    "print(metrics.classification_report(y_test, pred))"
   ]
  },
  {
   "cell_type": "code",
   "execution_count": null,
   "metadata": {
    "id": "tjj5Cm7YJl4A"
   },
   "outputs": [],
   "source": []
  },
  {
   "cell_type": "code",
   "execution_count": null,
   "metadata": {
    "id": "-ws-UtOenF2B"
   },
   "outputs": [],
   "source": []
  },
  {
   "cell_type": "markdown",
   "metadata": {
    "id": "UzA4vahJnGNz"
   },
   "source": [
    "**SUPPORT VECTOR MACHINE**"
   ]
  },
  {
   "cell_type": "code",
   "execution_count": 54,
   "metadata": {
    "id": "2lx4A3Hwnmyj"
   },
   "outputs": [],
   "source": [
    "from sklearn import svm"
   ]
  },
  {
   "cell_type": "code",
   "execution_count": 55,
   "metadata": {
    "id": "dkxeYrb-nGnX"
   },
   "outputs": [],
   "source": [
    "model = svm.SVC(kernel='linear') \n",
    "model.fit(X_train_vec, y_train) \n",
    "predicted_sentiment = model.predict(X_test_vec)\n"
   ]
  },
  {
   "cell_type": "code",
   "execution_count": 59,
   "metadata": {
    "colab": {
     "base_uri": "https://localhost:8080/"
    },
    "id": "ffXIDmNqn24n",
    "outputId": "efea73db-e83b-48d1-9e3e-369037783509"
   },
   "outputs": [
    {
     "name": "stdout",
     "output_type": "stream",
     "text": [
      "0.8587196467991169\n"
     ]
    }
   ],
   "source": [
    "print(metrics.accuracy_score(y_test, predicted_sentiment))"
   ]
  },
  {
   "cell_type": "code",
   "execution_count": 60,
   "metadata": {
    "colab": {
     "base_uri": "https://localhost:8080/"
    },
    "id": "mvFtbxfGoGWf",
    "outputId": "a2528c84-8bc0-409a-ecc6-5c4ac26f570e"
   },
   "outputs": [
    {
     "name": "stdout",
     "output_type": "stream",
     "text": [
      "[[128  41]\n",
      " [ 23 261]]\n"
     ]
    }
   ],
   "source": [
    "print(metrics.confusion_matrix(y_test, predicted_sentiment))"
   ]
  },
  {
   "cell_type": "code",
   "execution_count": 61,
   "metadata": {
    "colab": {
     "base_uri": "https://localhost:8080/",
     "height": 254
    },
    "id": "0hxUDb36oNLD",
    "outputId": "93195901-0599-4d57-a18e-95e44cb5ddec"
   },
   "outputs": [
    {
     "data": {
      "image/png": "[encoded data removed]",
      "text/plain": [
       "<Figure size 288x288 with 2 Axes>"
      ]
     },
     "metadata": {
      "needs_background": "light",
      "tags": []
     },
     "output_type": "display_data"
    }
   ],
   "source": [
    "cm1 = metrics.confusion_matrix(y_test, predicted_sentiment)\n",
    "pl.matshow(cm)\n",
    "#pl.title('Confusion matrix of the classifier')\n",
    "pl.colorbar()\n",
    "pl.show()\n"
   ]
  },
  {
   "cell_type": "code",
   "execution_count": 57,
   "metadata": {
    "colab": {
     "base_uri": "https://localhost:8080/"
    },
    "id": "AHU6TnRLng3q",
    "outputId": "6062934a-a77a-4610-cf25-bda18601dc21"
   },
   "outputs": [
    {
     "name": "stdout",
     "output_type": "stream",
     "text": [
      "              precision    recall  f1-score   support\n",
      "\n",
      "           0       0.85      0.76      0.80       169\n",
      "           1       0.86      0.92      0.89       284\n",
      "\n",
      "    accuracy                           0.86       453\n",
      "   macro avg       0.86      0.84      0.85       453\n",
      "weighted avg       0.86      0.86      0.86       453\n",
      "\n"
     ]
    }
   ],
   "source": [
    "print(metrics.classification_report(y_test, predicted_sentiment))"
   ]
  },
  {
   "cell_type": "code",
   "execution_count": null,
   "metadata": {
    "id": "W7Cjr7Xfnvz9"
   },
   "outputs": [],
   "source": []
  }
 ],
 "metadata": {
  "colab": {
   "name": "Untitled7.ipynb",
   "provenance": []
  },
  "kernelspec": {
   "display_name": "Python 3",
   "language": "python",
   "name": "python3"
  },
  "language_info": {
   "codemirror_mode": {
    "name": "ipython",
    "version": 3
   },
   "file_extension": ".py",
   "mimetype": "text/x-python",
   "name": "python",
   "nbconvert_exporter": "python",
   "pygments_lexer": "ipython3",
   "version": "3.6.5"
  }
 },
 "nbformat": 4,
 "nbformat_minor": 1
}
